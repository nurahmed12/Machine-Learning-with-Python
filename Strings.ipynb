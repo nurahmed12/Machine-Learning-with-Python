{
 "cells": [
  {
   "cell_type": "code",
   "execution_count": 1,
   "id": "58e0c6c2",
   "metadata": {},
   "outputs": [],
   "source": [
    "j = 'how about this '"
   ]
  },
  {
   "cell_type": "code",
   "execution_count": 2,
   "id": "893d9597",
   "metadata": {},
   "outputs": [
    {
     "data": {
      "text/plain": [
       "str"
      ]
     },
     "execution_count": 2,
     "metadata": {},
     "output_type": "execute_result"
    }
   ],
   "source": [
    "type(j)"
   ]
  },
  {
   "cell_type": "code",
   "execution_count": 3,
   "id": "dd1a4e94",
   "metadata": {},
   "outputs": [
    {
     "name": "stdout",
     "output_type": "stream",
     "text": [
      "Enter a String : Aral hoote Dekhechi tomay\n",
      "Aral hoote Dekhechi tomay\n"
     ]
    }
   ],
   "source": [
    "k = input('Enter a String : ')\n",
    "print(k)"
   ]
  },
  {
   "cell_type": "code",
   "execution_count": 4,
   "id": "4660eee7",
   "metadata": {},
   "outputs": [
    {
     "name": "stdout",
     "output_type": "stream",
     "text": [
      "Enter a number : 23\n",
      "23\n"
     ]
    }
   ],
   "source": [
    "x = int(input('Enter a number : '))\n",
    "print(x)"
   ]
  },
  {
   "cell_type": "code",
   "execution_count": 5,
   "id": "2e130381",
   "metadata": {},
   "outputs": [
    {
     "name": "stdout",
     "output_type": "stream",
     "text": [
      "Enter a number : 33\n"
     ]
    },
    {
     "data": {
      "text/plain": [
       "33"
      ]
     },
     "execution_count": 5,
     "metadata": {},
     "output_type": "execute_result"
    }
   ],
   "source": [
    "y = int(input('Enter a number : '))\n",
    "y"
   ]
  },
  {
   "cell_type": "code",
   "execution_count": 6,
   "id": "1a2a48b1",
   "metadata": {},
   "outputs": [
    {
     "name": "stdout",
     "output_type": "stream",
     "text": [
      "56\n"
     ]
    }
   ],
   "source": [
    "print(x + y)"
   ]
  },
  {
   "cell_type": "code",
   "execution_count": 7,
   "id": "279a9eab",
   "metadata": {},
   "outputs": [
    {
     "data": {
      "text/plain": [
       "25"
      ]
     },
     "execution_count": 7,
     "metadata": {},
     "output_type": "execute_result"
    }
   ],
   "source": [
    "len(k)"
   ]
  },
  {
   "cell_type": "code",
   "execution_count": 8,
   "id": "6c5ed62d",
   "metadata": {},
   "outputs": [
    {
     "data": {
      "text/plain": [
       "15"
      ]
     },
     "execution_count": 8,
     "metadata": {},
     "output_type": "execute_result"
    }
   ],
   "source": [
    "len(j)"
   ]
  },
  {
   "cell_type": "code",
   "execution_count": 10,
   "id": "941f7e6d",
   "metadata": {},
   "outputs": [
    {
     "data": {
      "text/plain": [
       "40"
      ]
     },
     "execution_count": 10,
     "metadata": {},
     "output_type": "execute_result"
    }
   ],
   "source": [
    "len(j + k)"
   ]
  },
  {
   "cell_type": "code",
   "execution_count": 11,
   "id": "537e6859",
   "metadata": {},
   "outputs": [
    {
     "data": {
      "text/plain": [
       "64"
      ]
     },
     "execution_count": 11,
     "metadata": {},
     "output_type": "execute_result"
    }
   ],
   "source": [
    "import sys\n",
    "sys.getsizeof(j)"
   ]
  },
  {
   "cell_type": "code",
   "execution_count": 12,
   "id": "a43205a6",
   "metadata": {},
   "outputs": [
    {
     "data": {
      "text/plain": [
       "1"
      ]
     },
     "execution_count": 12,
     "metadata": {},
     "output_type": "execute_result"
    }
   ],
   "source": [
    "k.count('Aral')"
   ]
  },
  {
   "cell_type": "code",
   "execution_count": 14,
   "id": "c68b6852",
   "metadata": {},
   "outputs": [
    {
     "data": {
      "text/plain": [
       "1"
      ]
     },
     "execution_count": 14,
     "metadata": {},
     "output_type": "execute_result"
    }
   ],
   "source": [
    "sub = 'hoote Dekhechi'\n",
    "k.count(sub)"
   ]
  },
  {
   "cell_type": "markdown",
   "id": "7ddd4155",
   "metadata": {},
   "source": [
    "# String Methods"
   ]
  },
  {
   "cell_type": "code",
   "execution_count": 24,
   "id": "3821c78f",
   "metadata": {},
   "outputs": [
    {
     "data": {
      "text/plain": [
       "3"
      ]
     },
     "execution_count": 24,
     "metadata": {},
     "output_type": "execute_result"
    }
   ],
   "source": [
    "data = 'Ek katar bagan. Tobu Vebe nilam.'\n",
    "data.find('kata')"
   ]
  },
  {
   "cell_type": "code",
   "execution_count": 25,
   "id": "2087090b",
   "metadata": {},
   "outputs": [
    {
     "data": {
      "text/plain": [
       "3"
      ]
     },
     "execution_count": 25,
     "metadata": {},
     "output_type": "execute_result"
    }
   ],
   "source": [
    "data.find('k',3,9)"
   ]
  },
  {
   "cell_type": "code",
   "execution_count": 26,
   "id": "bbb41f88",
   "metadata": {},
   "outputs": [
    {
     "data": {
      "text/plain": [
       "1"
      ]
     },
     "execution_count": 26,
     "metadata": {},
     "output_type": "execute_result"
    }
   ],
   "source": [
    "data.index('k')"
   ]
  },
  {
   "cell_type": "code",
   "execution_count": 27,
   "id": "3d9a8450",
   "metadata": {},
   "outputs": [
    {
     "data": {
      "text/plain": [
       "3"
      ]
     },
     "execution_count": 27,
     "metadata": {},
     "output_type": "execute_result"
    }
   ],
   "source": [
    "data.index('k',3,6)"
   ]
  },
  {
   "cell_type": "code",
   "execution_count": 28,
   "id": "421d2005",
   "metadata": {},
   "outputs": [
    {
     "data": {
      "text/plain": [
       "'ek katar bagan. tobu vebe nilam.'"
      ]
     },
     "execution_count": 28,
     "metadata": {},
     "output_type": "execute_result"
    }
   ],
   "source": [
    "data.lower()"
   ]
  },
  {
   "cell_type": "code",
   "execution_count": 29,
   "id": "46737306",
   "metadata": {},
   "outputs": [
    {
     "data": {
      "text/plain": [
       "'Ek katar bagan. tobu vebe nilam.'"
      ]
     },
     "execution_count": 29,
     "metadata": {},
     "output_type": "execute_result"
    }
   ],
   "source": [
    "data.capitalize()"
   ]
  },
  {
   "cell_type": "code",
   "execution_count": 30,
   "id": "5960d5f9",
   "metadata": {},
   "outputs": [
    {
     "data": {
      "text/plain": [
       "'eK KATAR BAGAN. tOBU vEBE NILAM.'"
      ]
     },
     "execution_count": 30,
     "metadata": {},
     "output_type": "execute_result"
    }
   ],
   "source": [
    "data.swapcase()"
   ]
  },
  {
   "cell_type": "code",
   "execution_count": 31,
   "id": "3ae7950c",
   "metadata": {},
   "outputs": [
    {
     "data": {
      "text/plain": [
       "'Ek Katar Bagan. Tobu Vebe Nilam.'"
      ]
     },
     "execution_count": 31,
     "metadata": {},
     "output_type": "execute_result"
    }
   ],
   "source": [
    "data.title()"
   ]
  },
  {
   "cell_type": "code",
   "execution_count": 32,
   "id": "d2156970",
   "metadata": {},
   "outputs": [
    {
     "data": {
      "text/plain": [
       "False"
      ]
     },
     "execution_count": 32,
     "metadata": {},
     "output_type": "execute_result"
    }
   ],
   "source": [
    "data.istitle()"
   ]
  },
  {
   "cell_type": "code",
   "execution_count": 33,
   "id": "474d7237",
   "metadata": {},
   "outputs": [
    {
     "data": {
      "text/plain": [
       "False"
      ]
     },
     "execution_count": 33,
     "metadata": {},
     "output_type": "execute_result"
    }
   ],
   "source": [
    "data.islower()\n",
    "data.isupper()"
   ]
  },
  {
   "cell_type": "code",
   "execution_count": 34,
   "id": "19a967c5",
   "metadata": {},
   "outputs": [
    {
     "data": {
      "text/plain": [
       "False"
      ]
     },
     "execution_count": 34,
     "metadata": {},
     "output_type": "execute_result"
    }
   ],
   "source": [
    "data.isdigit()"
   ]
  },
  {
   "cell_type": "code",
   "execution_count": 35,
   "id": "f47abce9",
   "metadata": {},
   "outputs": [
    {
     "data": {
      "text/plain": [
       "b'Ek katar bagan. Tobu Vebe nilam.'"
      ]
     },
     "execution_count": 35,
     "metadata": {},
     "output_type": "execute_result"
    }
   ],
   "source": [
    "data.encode()"
   ]
  },
  {
   "cell_type": "code",
   "execution_count": 36,
   "id": "1639a14a",
   "metadata": {},
   "outputs": [
    {
     "data": {
      "text/plain": [
       "bytes"
      ]
     },
     "execution_count": 36,
     "metadata": {},
     "output_type": "execute_result"
    }
   ],
   "source": [
    "type(data.encode())"
   ]
  },
  {
   "cell_type": "code",
   "execution_count": 37,
   "id": "e50e5357",
   "metadata": {},
   "outputs": [
    {
     "data": {
      "text/plain": [
       "['Ek', 'katar', 'bagan.', 'Tobu', 'Vebe', 'nilam.']"
      ]
     },
     "execution_count": 37,
     "metadata": {},
     "output_type": "execute_result"
    }
   ],
   "source": [
    "data.split()"
   ]
  },
  {
   "cell_type": "code",
   "execution_count": 38,
   "id": "46c10c45",
   "metadata": {},
   "outputs": [
    {
     "data": {
      "text/plain": [
       "'Ek'"
      ]
     },
     "execution_count": 38,
     "metadata": {},
     "output_type": "execute_result"
    }
   ],
   "source": [
    "data.split()[0]"
   ]
  },
  {
   "cell_type": "code",
   "execution_count": 39,
   "id": "2b66ed33",
   "metadata": {},
   "outputs": [
    {
     "data": {
      "text/plain": [
       "'                                                                                    Ek katar bagan. Tobu Vebe nilam.                                                                                   '"
      ]
     },
     "execution_count": 39,
     "metadata": {},
     "output_type": "execute_result"
    }
   ],
   "source": [
    "data.center(199)"
   ]
  },
  {
   "cell_type": "code",
   "execution_count": 40,
   "id": "85559706",
   "metadata": {},
   "outputs": [
    {
     "data": {
      "text/plain": [
       "'Ek katar bagan. Tobu Vebe nilam.'"
      ]
     },
     "execution_count": 40,
     "metadata": {},
     "output_type": "execute_result"
    }
   ],
   "source": [
    "data.center(30)"
   ]
  },
  {
   "cell_type": "code",
   "execution_count": 41,
   "id": "e9086642",
   "metadata": {},
   "outputs": [
    {
     "ename": "TypeError",
     "evalue": "'str' object cannot be interpreted as an integer",
     "output_type": "error",
     "traceback": [
      "\u001b[1;31m---------------------------------------------------------------------------\u001b[0m",
      "\u001b[1;31mTypeError\u001b[0m                                 Traceback (most recent call last)",
      "Cell \u001b[1;32mIn[41], line 1\u001b[0m\n\u001b[1;32m----> 1\u001b[0m \u001b[43mdata\u001b[49m\u001b[38;5;241;43m.\u001b[39;49m\u001b[43mcenter\u001b[49m\u001b[43m(\u001b[49m\u001b[43mdata\u001b[49m\u001b[38;5;241;43m.\u001b[39;49m\u001b[43msplit\u001b[49m\u001b[43m(\u001b[49m\u001b[43m)\u001b[49m\u001b[43m[\u001b[49m\u001b[38;5;241;43m0\u001b[39;49m\u001b[43m]\u001b[49m\u001b[43m)\u001b[49m\n",
      "\u001b[1;31mTypeError\u001b[0m: 'str' object cannot be interpreted as an integer"
     ]
    }
   ],
   "source": [
    "data.center(data.split()[0])"
   ]
  },
  {
   "cell_type": "code",
   "execution_count": 42,
   "id": "a5245a90",
   "metadata": {},
   "outputs": [
    {
     "data": {
      "text/plain": [
       "'Ek katar bagan. Tobu Vebe lilam.'"
      ]
     },
     "execution_count": 42,
     "metadata": {},
     "output_type": "execute_result"
    }
   ],
   "source": [
    "data.replace('nilam','lilam')"
   ]
  },
  {
   "cell_type": "code",
   "execution_count": 43,
   "id": "d1541417",
   "metadata": {},
   "outputs": [],
   "source": [
    "data = data.replace('nilam','lilam')"
   ]
  },
  {
   "cell_type": "code",
   "execution_count": 44,
   "id": "177d9a0a",
   "metadata": {},
   "outputs": [
    {
     "data": {
      "text/plain": [
       "'Ek katar bagan. Tobu Vebe lilam.'"
      ]
     },
     "execution_count": 44,
     "metadata": {},
     "output_type": "execute_result"
    }
   ],
   "source": [
    "data"
   ]
  },
  {
   "cell_type": "code",
   "execution_count": 46,
   "id": "37616a91",
   "metadata": {},
   "outputs": [
    {
     "data": {
      "text/plain": [
       "30"
      ]
     },
     "execution_count": 46,
     "metadata": {},
     "output_type": "execute_result"
    }
   ],
   "source": [
    "x = 10\n",
    "y = 3\n",
    "z = x * y\n",
    "z"
   ]
  },
  {
   "cell_type": "code",
   "execution_count": 47,
   "id": "b3a85edb",
   "metadata": {},
   "outputs": [
    {
     "name": "stdout",
     "output_type": "stream",
     "text": [
      "The product is  30\n"
     ]
    }
   ],
   "source": [
    "print('The product is ',z)"
   ]
  },
  {
   "cell_type": "code",
   "execution_count": 48,
   "id": "8aeb7bcb",
   "metadata": {},
   "outputs": [
    {
     "name": "stdout",
     "output_type": "stream",
     "text": [
      "The product is 30 and it cannot be changed.\n"
     ]
    }
   ],
   "source": [
    "print(f'The product is {z} and it cannot be changed.')"
   ]
  },
  {
   "cell_type": "code",
   "execution_count": 50,
   "id": "ae17c439",
   "metadata": {},
   "outputs": [
    {
     "name": "stdout",
     "output_type": "stream",
     "text": [
      "The product is 30 and it cannot be changed.\n"
     ]
    }
   ],
   "source": [
    "print('The product is {} and it cannot be changed.'.format(z))"
   ]
  },
  {
   "cell_type": "code",
   "execution_count": null,
   "id": "a37e19b2",
   "metadata": {},
   "outputs": [],
   "source": []
  }
 ],
 "metadata": {
  "kernelspec": {
   "display_name": "Python 3 (ipykernel)",
   "language": "python",
   "name": "python3"
  },
  "language_info": {
   "codemirror_mode": {
    "name": "ipython",
    "version": 3
   },
   "file_extension": ".py",
   "mimetype": "text/x-python",
   "name": "python",
   "nbconvert_exporter": "python",
   "pygments_lexer": "ipython3",
   "version": "3.11.4"
  }
 },
 "nbformat": 4,
 "nbformat_minor": 5
}
