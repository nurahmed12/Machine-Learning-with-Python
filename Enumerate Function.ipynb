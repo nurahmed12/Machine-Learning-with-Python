{
 "cells": [
  {
   "cell_type": "code",
   "execution_count": 2,
   "id": "dc2d131a",
   "metadata": {},
   "outputs": [],
   "source": [
    "l = ['Name', 'Age', 'Section']\n",
    "l1 = ['Nur Ahmed', '21', 'A']\n",
    "\n",
    "dic1 = dict(zip(l, l1))"
   ]
  },
  {
   "cell_type": "code",
   "execution_count": 3,
   "id": "e9c09ba6",
   "metadata": {},
   "outputs": [
    {
     "data": {
      "text/plain": [
       "{'Name': 'Nur Ahmed', 'Age': '21', 'Section': 'A'}"
      ]
     },
     "execution_count": 3,
     "metadata": {},
     "output_type": "execute_result"
    }
   ],
   "source": [
    "dic1"
   ]
  },
  {
   "cell_type": "code",
   "execution_count": 4,
   "id": "d4c062e6",
   "metadata": {},
   "outputs": [
    {
     "name": "stdout",
     "output_type": "stream",
     "text": [
      "Name\n",
      "Age\n",
      "Section\n"
     ]
    }
   ],
   "source": [
    "for i in dic1:\n",
    "    print(i)"
   ]
  },
  {
   "cell_type": "code",
   "execution_count": 5,
   "id": "ade0d57f",
   "metadata": {},
   "outputs": [
    {
     "name": "stdout",
     "output_type": "stream",
     "text": [
      "(0, 'Name')\n",
      "(1, 'Age')\n",
      "(2, 'Section')\n"
     ]
    }
   ],
   "source": [
    "for i in enumerate(dic1):\n",
    "    print(i)"
   ]
  },
  {
   "cell_type": "code",
   "execution_count": 6,
   "id": "cbf6d4e1",
   "metadata": {},
   "outputs": [
    {
     "name": "stdout",
     "output_type": "stream",
     "text": [
      "(0, 'Name')\n",
      "(1, 'Age')\n",
      "(2, 'Section')\n"
     ]
    }
   ],
   "source": [
    "for i in enumerate(dic1):\n",
    "    l2, l3 = i\n",
    "    print(i)"
   ]
  },
  {
   "cell_type": "code",
   "execution_count": 19,
   "id": "d976d3d4",
   "metadata": {},
   "outputs": [
    {
     "data": {
      "text/plain": [
       "[]"
      ]
     },
     "execution_count": 19,
     "metadata": {},
     "output_type": "execute_result"
    }
   ],
   "source": [
    "l2"
   ]
  },
  {
   "cell_type": "code",
   "execution_count": 26,
   "id": "bf34b56a",
   "metadata": {},
   "outputs": [
    {
     "name": "stdout",
     "output_type": "stream",
     "text": [
      "Name Nur Ahmed\n",
      "Age 21\n",
      "Section A\n"
     ]
    }
   ],
   "source": [
    "l2 = list()\n",
    "l3 = list()\n",
    "for keys, values in dic1.items():\n",
    "    l2.append(keys)\n",
    "    l3.append(values)\n",
    "    print(keys, values)"
   ]
  },
  {
   "cell_type": "code",
   "execution_count": 27,
   "id": "70414888",
   "metadata": {},
   "outputs": [
    {
     "data": {
      "text/plain": [
       "['Name', 'Age', 'Section']"
      ]
     },
     "execution_count": 27,
     "metadata": {},
     "output_type": "execute_result"
    }
   ],
   "source": [
    "l2"
   ]
  },
  {
   "cell_type": "code",
   "execution_count": 28,
   "id": "be6c3f7d",
   "metadata": {},
   "outputs": [],
   "source": [
    "zipped1 = tuple(zip(l, l1))"
   ]
  },
  {
   "cell_type": "code",
   "execution_count": 29,
   "id": "bfcd6775",
   "metadata": {},
   "outputs": [
    {
     "data": {
      "text/plain": [
       "(('Name', 'Nur Ahmed'), ('Age', '21'), ('Section', 'A'))"
      ]
     },
     "execution_count": 29,
     "metadata": {},
     "output_type": "execute_result"
    }
   ],
   "source": [
    "zipped1"
   ]
  },
  {
   "cell_type": "code",
   "execution_count": 30,
   "id": "6bae4029",
   "metadata": {},
   "outputs": [
    {
     "name": "stdout",
     "output_type": "stream",
     "text": [
      "(0, ('Name', 'Nur Ahmed'))\n",
      "(1, ('Age', '21'))\n",
      "(2, ('Section', 'A'))\n"
     ]
    }
   ],
   "source": [
    "for data in enumerate(zipped1):\n",
    "    l4,l5 = data\n",
    "    print(data)"
   ]
  },
  {
   "cell_type": "code",
   "execution_count": 31,
   "id": "40b0f38f",
   "metadata": {},
   "outputs": [
    {
     "data": {
      "text/plain": [
       "2"
      ]
     },
     "execution_count": 31,
     "metadata": {},
     "output_type": "execute_result"
    }
   ],
   "source": [
    "l4"
   ]
  },
  {
   "cell_type": "code",
   "execution_count": 32,
   "id": "768fdc8a",
   "metadata": {},
   "outputs": [
    {
     "name": "stdout",
     "output_type": "stream",
     "text": [
      "('Name', 'Nur Ahmed')\n",
      "('Age', '21')\n",
      "('Section', 'A')\n"
     ]
    }
   ],
   "source": [
    "for i, data in enumerate(zipped1):\n",
    "    l4,l5 = data\n",
    "    print(data)"
   ]
  },
  {
   "cell_type": "code",
   "execution_count": 33,
   "id": "2554f934",
   "metadata": {},
   "outputs": [
    {
     "data": {
      "text/plain": [
       "'Section'"
      ]
     },
     "execution_count": 33,
     "metadata": {},
     "output_type": "execute_result"
    }
   ],
   "source": [
    "l4"
   ]
  },
  {
   "cell_type": "code",
   "execution_count": null,
   "id": "2d640d40",
   "metadata": {},
   "outputs": [],
   "source": []
  }
 ],
 "metadata": {
  "kernelspec": {
   "display_name": "Python 3 (ipykernel)",
   "language": "python",
   "name": "python3"
  },
  "language_info": {
   "codemirror_mode": {
    "name": "ipython",
    "version": 3
   },
   "file_extension": ".py",
   "mimetype": "text/x-python",
   "name": "python",
   "nbconvert_exporter": "python",
   "pygments_lexer": "ipython3",
   "version": "3.11.4"
  }
 },
 "nbformat": 4,
 "nbformat_minor": 5
}
