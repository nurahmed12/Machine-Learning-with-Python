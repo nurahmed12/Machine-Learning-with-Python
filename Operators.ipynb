{
 "cells": [
  {
   "cell_type": "markdown",
   "id": "d0d953e0",
   "metadata": {},
   "source": [
    "# Assigning the values into the variables"
   ]
  },
  {
   "cell_type": "code",
   "execution_count": 6,
   "id": "7c878ccc",
   "metadata": {},
   "outputs": [],
   "source": [
    "x = 12\n",
    "y = 33\n",
    "z = 11\n",
    "w = 2"
   ]
  },
  {
   "cell_type": "code",
   "execution_count": 7,
   "id": "b0f3d8c1",
   "metadata": {},
   "outputs": [
    {
     "data": {
      "text/plain": [
       "45"
      ]
     },
     "execution_count": 7,
     "metadata": {},
     "output_type": "execute_result"
    }
   ],
   "source": [
    "x + y"
   ]
  },
  {
   "cell_type": "code",
   "execution_count": 8,
   "id": "f0b9375b",
   "metadata": {},
   "outputs": [
    {
     "data": {
      "text/plain": [
       "132"
      ]
     },
     "execution_count": 8,
     "metadata": {},
     "output_type": "execute_result"
    }
   ],
   "source": [
    "x * z"
   ]
  },
  {
   "cell_type": "code",
   "execution_count": 10,
   "id": "cd87d583",
   "metadata": {},
   "outputs": [
    {
     "data": {
      "text/plain": [
       "1.0909090909090908"
      ]
     },
     "execution_count": 10,
     "metadata": {},
     "output_type": "execute_result"
    }
   ],
   "source": [
    "x / z"
   ]
  },
  {
   "cell_type": "code",
   "execution_count": 11,
   "id": "2b10cbcf",
   "metadata": {},
   "outputs": [
    {
     "data": {
      "text/plain": [
       "144"
      ]
     },
     "execution_count": 11,
     "metadata": {},
     "output_type": "execute_result"
    }
   ],
   "source": [
    "x ** w # x ^ y"
   ]
  },
  {
   "cell_type": "code",
   "execution_count": 12,
   "id": "458fb30b",
   "metadata": {},
   "outputs": [
    {
     "data": {
      "text/plain": [
       "6"
      ]
     },
     "execution_count": 12,
     "metadata": {},
     "output_type": "execute_result"
    }
   ],
   "source": [
    "x // w # returns the floor value"
   ]
  },
  {
   "cell_type": "code",
   "execution_count": 13,
   "id": "49cc06e6",
   "metadata": {},
   "outputs": [
    {
     "data": {
      "text/plain": [
       "6"
      ]
     },
     "execution_count": 13,
     "metadata": {},
     "output_type": "execute_result"
    }
   ],
   "source": [
    "import math\n",
    "math.floor(x / w)"
   ]
  },
  {
   "cell_type": "code",
   "execution_count": 16,
   "id": "66231060",
   "metadata": {},
   "outputs": [
    {
     "data": {
      "text/plain": [
       "3"
      ]
     },
     "execution_count": 16,
     "metadata": {},
     "output_type": "execute_result"
    }
   ],
   "source": [
    "math.ceil(x / 5)"
   ]
  },
  {
   "cell_type": "code",
   "execution_count": 17,
   "id": "8fc96ea6",
   "metadata": {},
   "outputs": [
    {
     "data": {
      "text/plain": [
       "True"
      ]
     },
     "execution_count": 17,
     "metadata": {},
     "output_type": "execute_result"
    }
   ],
   "source": [
    "x = 11\n",
    "y = 11\n",
    "x is y"
   ]
  },
  {
   "cell_type": "code",
   "execution_count": 18,
   "id": "a932e27c",
   "metadata": {},
   "outputs": [
    {
     "data": {
      "text/plain": [
       "True"
      ]
     },
     "execution_count": 18,
     "metadata": {},
     "output_type": "execute_result"
    }
   ],
   "source": [
    "x == y"
   ]
  },
  {
   "cell_type": "code",
   "execution_count": 29,
   "id": "1c630b43",
   "metadata": {},
   "outputs": [
    {
     "data": {
      "text/plain": [
       "False"
      ]
     },
     "execution_count": 29,
     "metadata": {},
     "output_type": "execute_result"
    }
   ],
   "source": [
    "x = 12324242\n",
    "y = x\n",
    "z = 12324241 + 1\n",
    "y is z"
   ]
  },
  {
   "cell_type": "code",
   "execution_count": 27,
   "id": "2133fb21",
   "metadata": {},
   "outputs": [],
   "source": [
    "# is compares if the two variables are in the same memory address or not\n",
    "# == compares if the two variable's values are same or not"
   ]
  },
  {
   "cell_type": "code",
   "execution_count": 30,
   "id": "931083fa",
   "metadata": {},
   "outputs": [
    {
     "data": {
      "text/plain": [
       "True"
      ]
     },
     "execution_count": 30,
     "metadata": {},
     "output_type": "execute_result"
    }
   ],
   "source": [
    "y == z"
   ]
  },
  {
   "cell_type": "code",
   "execution_count": 31,
   "id": "a5dbe9de",
   "metadata": {},
   "outputs": [],
   "source": [
    "# Membership Operators\n",
    "\n",
    "list1 = [3,34,5,1]"
   ]
  },
  {
   "cell_type": "code",
   "execution_count": 32,
   "id": "f1e95107",
   "metadata": {},
   "outputs": [
    {
     "data": {
      "text/plain": [
       "True"
      ]
     },
     "execution_count": 32,
     "metadata": {},
     "output_type": "execute_result"
    }
   ],
   "source": [
    "34 in list1"
   ]
  },
  {
   "cell_type": "code",
   "execution_count": 33,
   "id": "abad5e1b",
   "metadata": {},
   "outputs": [
    {
     "data": {
      "text/plain": [
       "False"
      ]
     },
     "execution_count": 33,
     "metadata": {},
     "output_type": "execute_result"
    }
   ],
   "source": [
    "3 not in list1"
   ]
  },
  {
   "cell_type": "code",
   "execution_count": 34,
   "id": "17ff1db1",
   "metadata": {},
   "outputs": [
    {
     "data": {
      "text/plain": [
       "False"
      ]
     },
     "execution_count": 34,
     "metadata": {},
     "output_type": "execute_result"
    }
   ],
   "source": [
    "s = 'Learn Data Science'\n",
    "'data' in s"
   ]
  },
  {
   "cell_type": "code",
   "execution_count": 35,
   "id": "0c789490",
   "metadata": {},
   "outputs": [
    {
     "data": {
      "text/plain": [
       "True"
      ]
     },
     "execution_count": 35,
     "metadata": {},
     "output_type": "execute_result"
    }
   ],
   "source": [
    "'Data' in s"
   ]
  },
  {
   "cell_type": "code",
   "execution_count": 36,
   "id": "58549c07",
   "metadata": {},
   "outputs": [],
   "source": [
    "# Python Bitwise Operators"
   ]
  },
  {
   "cell_type": "code",
   "execution_count": 37,
   "id": "47eb6c4b",
   "metadata": {},
   "outputs": [
    {
     "data": {
      "text/plain": [
       "0"
      ]
     },
     "execution_count": 37,
     "metadata": {},
     "output_type": "execute_result"
    }
   ],
   "source": [
    "x = 10 # Binary value = 1010\n",
    "y = 5  # Binary value = 0101\n",
    "x | y  #sum of x and y= 1111\n",
    "x & y  #mul of x and y= 0000"
   ]
  },
  {
   "cell_type": "code",
   "execution_count": 38,
   "id": "394c6585",
   "metadata": {},
   "outputs": [
    {
     "data": {
      "text/plain": [
       "15"
      ]
     },
     "execution_count": 38,
     "metadata": {},
     "output_type": "execute_result"
    }
   ],
   "source": [
    "x | y"
   ]
  },
  {
   "cell_type": "code",
   "execution_count": 39,
   "id": "8ff6475e",
   "metadata": {},
   "outputs": [],
   "source": [
    "# Logical Operators"
   ]
  },
  {
   "cell_type": "code",
   "execution_count": 40,
   "id": "633a606d",
   "metadata": {},
   "outputs": [
    {
     "data": {
      "text/plain": [
       "False"
      ]
     },
     "execution_count": 40,
     "metadata": {},
     "output_type": "execute_result"
    }
   ],
   "source": [
    "x < y or x == y"
   ]
  },
  {
   "cell_type": "code",
   "execution_count": 41,
   "id": "2c3bba12",
   "metadata": {},
   "outputs": [
    {
     "data": {
      "text/plain": [
       "True"
      ]
     },
     "execution_count": 41,
     "metadata": {},
     "output_type": "execute_result"
    }
   ],
   "source": [
    "x > y or x == 12"
   ]
  },
  {
   "cell_type": "code",
   "execution_count": 42,
   "id": "e7623047",
   "metadata": {},
   "outputs": [
    {
     "data": {
      "text/plain": [
       "False"
      ]
     },
     "execution_count": 42,
     "metadata": {},
     "output_type": "execute_result"
    }
   ],
   "source": [
    "x > y and x == 1"
   ]
  },
  {
   "cell_type": "code",
   "execution_count": 43,
   "id": "f94e597a",
   "metadata": {},
   "outputs": [
    {
     "data": {
      "text/plain": [
       "True"
      ]
     },
     "execution_count": 43,
     "metadata": {},
     "output_type": "execute_result"
    }
   ],
   "source": [
    "x > y and x != 1"
   ]
  },
  {
   "cell_type": "code",
   "execution_count": 45,
   "id": "61c0c806",
   "metadata": {},
   "outputs": [
    {
     "ename": "SyntaxError",
     "evalue": "invalid syntax (4265958697.py, line 1)",
     "output_type": "error",
     "traceback": [
      "\u001b[1;36m  Cell \u001b[1;32mIn[45], line 1\u001b[1;36m\u001b[0m\n\u001b[1;33m    x > 10 not\u001b[0m\n\u001b[1;37m              ^\u001b[0m\n\u001b[1;31mSyntaxError\u001b[0m\u001b[1;31m:\u001b[0m invalid syntax\n"
     ]
    }
   ],
   "source": [
    "x > 10 not"
   ]
  },
  {
   "cell_type": "code",
   "execution_count": 46,
   "id": "583aaef4",
   "metadata": {},
   "outputs": [
    {
     "data": {
      "text/plain": [
       "True"
      ]
     },
     "execution_count": 46,
     "metadata": {},
     "output_type": "execute_result"
    }
   ],
   "source": [
    "not(x < y or x == y)"
   ]
  },
  {
   "cell_type": "code",
   "execution_count": null,
   "id": "dbb8dbcc",
   "metadata": {},
   "outputs": [],
   "source": []
  }
 ],
 "metadata": {
  "kernelspec": {
   "display_name": "Python 3 (ipykernel)",
   "language": "python",
   "name": "python3"
  },
  "language_info": {
   "codemirror_mode": {
    "name": "ipython",
    "version": 3
   },
   "file_extension": ".py",
   "mimetype": "text/x-python",
   "name": "python",
   "nbconvert_exporter": "python",
   "pygments_lexer": "ipython3",
   "version": "3.11.4"
  }
 },
 "nbformat": 4,
 "nbformat_minor": 5
}
