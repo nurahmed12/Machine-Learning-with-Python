{
 "cells": [
  {
   "cell_type": "code",
   "execution_count": 4,
   "id": "6b032177",
   "metadata": {},
   "outputs": [],
   "source": [
    "dic = {\n",
    "    'Name' : 'Nur Ahmed',\n",
    "    'ID' : '222-35-1111',\n",
    "    'Department' : 'Software Engineering',\n",
    "    'Section' : 'B',\n",
    "    'Batch' : '38'\n",
    "}"
   ]
  },
  {
   "cell_type": "code",
   "execution_count": 5,
   "id": "a40fa013",
   "metadata": {},
   "outputs": [
    {
     "data": {
      "text/plain": [
       "{'Name': 'Nur Ahmed',\n",
       " 'ID': '222-35-1111',\n",
       " 'Department': 'Software Engineering',\n",
       " 'Section': 'B',\n",
       " 'Batch': '38'}"
      ]
     },
     "execution_count": 5,
     "metadata": {},
     "output_type": "execute_result"
    }
   ],
   "source": [
    "dic"
   ]
  },
  {
   "cell_type": "code",
   "execution_count": 6,
   "id": "ae324224",
   "metadata": {},
   "outputs": [
    {
     "data": {
      "text/plain": [
       "dict_keys(['Name', 'ID', 'Department', 'Section', 'Batch'])"
      ]
     },
     "execution_count": 6,
     "metadata": {},
     "output_type": "execute_result"
    }
   ],
   "source": [
    "dic.keys()"
   ]
  },
  {
   "cell_type": "code",
   "execution_count": 7,
   "id": "f4c51b09",
   "metadata": {},
   "outputs": [
    {
     "data": {
      "text/plain": [
       "dict_values(['Nur Ahmed', '222-35-1111', 'Software Engineering', 'B', '38'])"
      ]
     },
     "execution_count": 7,
     "metadata": {},
     "output_type": "execute_result"
    }
   ],
   "source": [
    "dic.values()"
   ]
  },
  {
   "cell_type": "code",
   "execution_count": 8,
   "id": "69dca668",
   "metadata": {},
   "outputs": [],
   "source": [
    "dic1 = dic.copy()"
   ]
  },
  {
   "cell_type": "code",
   "execution_count": 9,
   "id": "fde091c7",
   "metadata": {},
   "outputs": [
    {
     "data": {
      "text/plain": [
       "{'Name': 'Nur Ahmed',\n",
       " 'ID': '222-35-1111',\n",
       " 'Department': 'Software Engineering',\n",
       " 'Section': 'B',\n",
       " 'Batch': '38'}"
      ]
     },
     "execution_count": 9,
     "metadata": {},
     "output_type": "execute_result"
    }
   ],
   "source": [
    "dic1"
   ]
  },
  {
   "cell_type": "code",
   "execution_count": 10,
   "id": "da82ffec",
   "metadata": {},
   "outputs": [],
   "source": [
    "dic1['University'] = 'Daffodil International University'"
   ]
  },
  {
   "cell_type": "code",
   "execution_count": 11,
   "id": "001ea936",
   "metadata": {},
   "outputs": [
    {
     "data": {
      "text/plain": [
       "{'Name': 'Nur Ahmed',\n",
       " 'ID': '222-35-1111',\n",
       " 'Department': 'Software Engineering',\n",
       " 'Section': 'B',\n",
       " 'Batch': '38',\n",
       " 'University': 'Daffodil International University'}"
      ]
     },
     "execution_count": 11,
     "metadata": {},
     "output_type": "execute_result"
    }
   ],
   "source": [
    "dic1"
   ]
  },
  {
   "cell_type": "code",
   "execution_count": 12,
   "id": "fc4b5685",
   "metadata": {},
   "outputs": [],
   "source": [
    "dic1['University'] = 'Harvard University'"
   ]
  },
  {
   "cell_type": "code",
   "execution_count": 13,
   "id": "2a44cdda",
   "metadata": {},
   "outputs": [
    {
     "data": {
      "text/plain": [
       "{'Name': 'Nur Ahmed',\n",
       " 'ID': '222-35-1111',\n",
       " 'Department': 'Software Engineering',\n",
       " 'Section': 'B',\n",
       " 'Batch': '38',\n",
       " 'University': 'Harvard University'}"
      ]
     },
     "execution_count": 13,
     "metadata": {},
     "output_type": "execute_result"
    }
   ],
   "source": [
    "dic1"
   ]
  },
  {
   "cell_type": "code",
   "execution_count": 14,
   "id": "a7416818",
   "metadata": {},
   "outputs": [],
   "source": [
    "dic1.update({'Blood' : 'A-'})"
   ]
  },
  {
   "cell_type": "code",
   "execution_count": 15,
   "id": "f6f7ec71",
   "metadata": {},
   "outputs": [
    {
     "data": {
      "text/plain": [
       "{'Name': 'Nur Ahmed',\n",
       " 'ID': '222-35-1111',\n",
       " 'Department': 'Software Engineering',\n",
       " 'Section': 'B',\n",
       " 'Batch': '38',\n",
       " 'University': 'Harvard University',\n",
       " 'Blood': 'A-'}"
      ]
     },
     "execution_count": 15,
     "metadata": {},
     "output_type": "execute_result"
    }
   ],
   "source": [
    "dic1"
   ]
  },
  {
   "cell_type": "code",
   "execution_count": 16,
   "id": "92628866",
   "metadata": {},
   "outputs": [
    {
     "data": {
      "text/plain": [
       "('Blood', 'A-')"
      ]
     },
     "execution_count": 16,
     "metadata": {},
     "output_type": "execute_result"
    }
   ],
   "source": [
    "dic1.popitem()"
   ]
  },
  {
   "cell_type": "code",
   "execution_count": 17,
   "id": "f92f12b4",
   "metadata": {},
   "outputs": [
    {
     "data": {
      "text/plain": [
       "'38'"
      ]
     },
     "execution_count": 17,
     "metadata": {},
     "output_type": "execute_result"
    }
   ],
   "source": [
    "dic1.pop('Batch')"
   ]
  },
  {
   "cell_type": "code",
   "execution_count": 18,
   "id": "2d5fa7d9",
   "metadata": {},
   "outputs": [
    {
     "data": {
      "text/plain": [
       "{'Name': 'Nur Ahmed',\n",
       " 'ID': '222-35-1111',\n",
       " 'Department': 'Software Engineering',\n",
       " 'Section': 'B',\n",
       " 'University': 'Harvard University'}"
      ]
     },
     "execution_count": 18,
     "metadata": {},
     "output_type": "execute_result"
    }
   ],
   "source": [
    "dic1"
   ]
  },
  {
   "cell_type": "code",
   "execution_count": 19,
   "id": "8fa9399a",
   "metadata": {},
   "outputs": [],
   "source": [
    "dic1['University'] = 'Daffodil International University'"
   ]
  },
  {
   "cell_type": "code",
   "execution_count": 20,
   "id": "c6ab1b9f",
   "metadata": {},
   "outputs": [],
   "source": [
    "dic1['Batch'] = '38'"
   ]
  },
  {
   "cell_type": "code",
   "execution_count": 21,
   "id": "69f15beb",
   "metadata": {},
   "outputs": [
    {
     "data": {
      "text/plain": [
       "{'Name': 'Nur Ahmed',\n",
       " 'ID': '222-35-1111',\n",
       " 'Department': 'Software Engineering',\n",
       " 'Section': 'B',\n",
       " 'University': 'Daffodil International University',\n",
       " 'Batch': '38'}"
      ]
     },
     "execution_count": 21,
     "metadata": {},
     "output_type": "execute_result"
    }
   ],
   "source": [
    "dic1"
   ]
  },
  {
   "cell_type": "code",
   "execution_count": 22,
   "id": "e45f14ec",
   "metadata": {},
   "outputs": [],
   "source": [
    "del dic1['Batch']"
   ]
  },
  {
   "cell_type": "code",
   "execution_count": 23,
   "id": "acca9fe1",
   "metadata": {},
   "outputs": [
    {
     "data": {
      "text/plain": [
       "{'Name': 'Nur Ahmed',\n",
       " 'ID': '222-35-1111',\n",
       " 'Department': 'Software Engineering',\n",
       " 'Section': 'B',\n",
       " 'University': 'Daffodil International University'}"
      ]
     },
     "execution_count": 23,
     "metadata": {},
     "output_type": "execute_result"
    }
   ],
   "source": [
    "dic1"
   ]
  },
  {
   "cell_type": "code",
   "execution_count": 24,
   "id": "a8e5f6fd",
   "metadata": {},
   "outputs": [
    {
     "name": "stdout",
     "output_type": "stream",
     "text": [
      "Name : Nur Ahmed\n",
      "ID : 222-35-1111\n",
      "Department : Software Engineering\n",
      "Section : B\n",
      "University : Daffodil International University\n"
     ]
    }
   ],
   "source": [
    "for i in dic1:\n",
    "    print(i ,':', dic1[i])"
   ]
  },
  {
   "cell_type": "code",
   "execution_count": 26,
   "id": "ec2e8122",
   "metadata": {},
   "outputs": [
    {
     "name": "stdout",
     "output_type": "stream",
     "text": [
      "Enter how many values will be inserted : 3\n",
      "Enter the Keys and Values for your Dictionary : \n",
      "Value 1: Nur Ahmed\n",
      "Key 1: Name\n",
      "Value 2: 20\n",
      "Key 2: Age\n",
      "Value 3: 6'2\"\n",
      "Key 3: Height\n"
     ]
    }
   ],
   "source": [
    "dic3 = {}\n",
    "n = int(input('Enter how many values will be inserted : '))\n",
    "print('Enter the Keys and Values for your Dictionary : ')\n",
    "for i in range(n):\n",
    "    dic3[input(f\"Key {i+1}: \")] = input(f\"Value {i+1}: \")"
   ]
  },
  {
   "cell_type": "code",
   "execution_count": 27,
   "id": "9a55c813",
   "metadata": {},
   "outputs": [
    {
     "data": {
      "text/plain": [
       "{'Name': 'Nur Ahmed', 'Age': '20', 'Height': '6\\'2\"'}"
      ]
     },
     "execution_count": 27,
     "metadata": {},
     "output_type": "execute_result"
    }
   ],
   "source": [
    "dic3"
   ]
  },
  {
   "cell_type": "code",
   "execution_count": null,
   "id": "dc562f67",
   "metadata": {},
   "outputs": [],
   "source": []
  }
 ],
 "metadata": {
  "kernelspec": {
   "display_name": "Python 3 (ipykernel)",
   "language": "python",
   "name": "python3"
  },
  "language_info": {
   "codemirror_mode": {
    "name": "ipython",
    "version": 3
   },
   "file_extension": ".py",
   "mimetype": "text/x-python",
   "name": "python",
   "nbconvert_exporter": "python",
   "pygments_lexer": "ipython3",
   "version": "3.11.4"
  }
 },
 "nbformat": 4,
 "nbformat_minor": 5
}
