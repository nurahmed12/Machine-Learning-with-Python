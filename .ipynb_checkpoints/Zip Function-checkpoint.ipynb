{
 "cells": [
  {
   "cell_type": "code",
   "execution_count": 2,
   "id": "6f303cb0",
   "metadata": {},
   "outputs": [],
   "source": [
    "name = ['Nur', 'Shaminoor', 'Dipto']\n",
    "versity = ['DIU', 'AIUB', 'NSU']"
   ]
  },
  {
   "cell_type": "code",
   "execution_count": 3,
   "id": "fbfc1773",
   "metadata": {},
   "outputs": [],
   "source": [
    "zipped = zip(name, versity)"
   ]
  },
  {
   "cell_type": "code",
   "execution_count": 4,
   "id": "bf89d538",
   "metadata": {},
   "outputs": [
    {
     "data": {
      "text/plain": [
       "<zip at 0x10fa88390c0>"
      ]
     },
     "execution_count": 4,
     "metadata": {},
     "output_type": "execute_result"
    }
   ],
   "source": [
    "zipped"
   ]
  },
  {
   "cell_type": "code",
   "execution_count": 5,
   "id": "8ac26273",
   "metadata": {},
   "outputs": [],
   "source": [
    "zipped = list(zip(name, versity))"
   ]
  },
  {
   "cell_type": "code",
   "execution_count": 6,
   "id": "5451b6d8",
   "metadata": {},
   "outputs": [
    {
     "data": {
      "text/plain": [
       "[('Nur', 'DIU'), ('Shaminoor', 'AIUB'), ('Dipto', 'NSU')]"
      ]
     },
     "execution_count": 6,
     "metadata": {},
     "output_type": "execute_result"
    }
   ],
   "source": [
    "zipped"
   ]
  },
  {
   "cell_type": "code",
   "execution_count": 7,
   "id": "d74a7b25",
   "metadata": {},
   "outputs": [
    {
     "data": {
      "text/plain": [
       "list"
      ]
     },
     "execution_count": 7,
     "metadata": {},
     "output_type": "execute_result"
    }
   ],
   "source": [
    "type(zipped)"
   ]
  },
  {
   "cell_type": "code",
   "execution_count": 8,
   "id": "1184f3be",
   "metadata": {},
   "outputs": [],
   "source": [
    "zipped = tuple(zip(name, versity))"
   ]
  },
  {
   "cell_type": "code",
   "execution_count": 9,
   "id": "b6a54aea",
   "metadata": {},
   "outputs": [
    {
     "data": {
      "text/plain": [
       "(('Nur', 'DIU'), ('Shaminoor', 'AIUB'), ('Dipto', 'NSU'))"
      ]
     },
     "execution_count": 9,
     "metadata": {},
     "output_type": "execute_result"
    }
   ],
   "source": [
    "zipped"
   ]
  },
  {
   "cell_type": "code",
   "execution_count": 10,
   "id": "96511a9a",
   "metadata": {},
   "outputs": [
    {
     "data": {
      "text/plain": [
       "tuple"
      ]
     },
     "execution_count": 10,
     "metadata": {},
     "output_type": "execute_result"
    }
   ],
   "source": [
    "type(zipped)"
   ]
  },
  {
   "cell_type": "code",
   "execution_count": 11,
   "id": "194bcb90",
   "metadata": {},
   "outputs": [],
   "source": [
    "zipped = set(zip(name, versity))"
   ]
  },
  {
   "cell_type": "code",
   "execution_count": 12,
   "id": "5ab20e41",
   "metadata": {},
   "outputs": [
    {
     "data": {
      "text/plain": [
       "{('Dipto', 'NSU'), ('Nur', 'DIU'), ('Shaminoor', 'AIUB')}"
      ]
     },
     "execution_count": 12,
     "metadata": {},
     "output_type": "execute_result"
    }
   ],
   "source": [
    "zipped"
   ]
  },
  {
   "cell_type": "code",
   "execution_count": 13,
   "id": "28696331",
   "metadata": {},
   "outputs": [
    {
     "data": {
      "text/plain": [
       "set"
      ]
     },
     "execution_count": 13,
     "metadata": {},
     "output_type": "execute_result"
    }
   ],
   "source": [
    "type(zipped)"
   ]
  },
  {
   "cell_type": "code",
   "execution_count": 14,
   "id": "78d3b0da",
   "metadata": {},
   "outputs": [],
   "source": [
    "zipped = dict(zip(name, versity))"
   ]
  },
  {
   "cell_type": "code",
   "execution_count": 15,
   "id": "09fe6367",
   "metadata": {},
   "outputs": [
    {
     "data": {
      "text/plain": [
       "{'Nur': 'DIU', 'Shaminoor': 'AIUB', 'Dipto': 'NSU'}"
      ]
     },
     "execution_count": 15,
     "metadata": {},
     "output_type": "execute_result"
    }
   ],
   "source": [
    "zipped"
   ]
  },
  {
   "cell_type": "code",
   "execution_count": 16,
   "id": "5c17d402",
   "metadata": {},
   "outputs": [
    {
     "data": {
      "text/plain": [
       "dict_keys(['Nur', 'Shaminoor', 'Dipto'])"
      ]
     },
     "execution_count": 16,
     "metadata": {},
     "output_type": "execute_result"
    }
   ],
   "source": [
    "zipped.keys()"
   ]
  },
  {
   "cell_type": "code",
   "execution_count": 17,
   "id": "d5f297c2",
   "metadata": {},
   "outputs": [
    {
     "ename": "ValueError",
     "evalue": "too many values to unpack (expected 2)",
     "output_type": "error",
     "traceback": [
      "\u001b[1;31m---------------------------------------------------------------------------\u001b[0m",
      "\u001b[1;31mValueError\u001b[0m                                Traceback (most recent call last)",
      "Cell \u001b[1;32mIn[17], line 1\u001b[0m\n\u001b[1;32m----> 1\u001b[0m t1, t2 \u001b[38;5;241m=\u001b[39m \u001b[38;5;28mzip\u001b[39m(\u001b[38;5;241m*\u001b[39mzipped)\n",
      "\u001b[1;31mValueError\u001b[0m: too many values to unpack (expected 2)"
     ]
    }
   ],
   "source": [
    "t1, t2 = zip(*zipped)"
   ]
  },
  {
   "cell_type": "code",
   "execution_count": 18,
   "id": "d0ce2f47",
   "metadata": {},
   "outputs": [
    {
     "ename": "ValueError",
     "evalue": "too many values to unpack (expected 2)",
     "output_type": "error",
     "traceback": [
      "\u001b[1;31m---------------------------------------------------------------------------\u001b[0m",
      "\u001b[1;31mValueError\u001b[0m                                Traceback (most recent call last)",
      "Cell \u001b[1;32mIn[18], line 1\u001b[0m\n\u001b[1;32m----> 1\u001b[0m name1, versity1 \u001b[38;5;241m=\u001b[39m \u001b[38;5;28mzip\u001b[39m(\u001b[38;5;241m*\u001b[39mzipped)\n",
      "\u001b[1;31mValueError\u001b[0m: too many values to unpack (expected 2)"
     ]
    }
   ],
   "source": [
    "name1, versity1 = zip(*zipped)"
   ]
  },
  {
   "cell_type": "code",
   "execution_count": 19,
   "id": "2c6cf89b",
   "metadata": {},
   "outputs": [],
   "source": [
    "name1, versity1 = zip(*zipped.items())"
   ]
  },
  {
   "cell_type": "code",
   "execution_count": 20,
   "id": "ced90348",
   "metadata": {},
   "outputs": [
    {
     "data": {
      "text/plain": [
       "{'Nur': 'DIU', 'Shaminoor': 'AIUB', 'Dipto': 'NSU'}"
      ]
     },
     "execution_count": 20,
     "metadata": {},
     "output_type": "execute_result"
    }
   ],
   "source": [
    "zipped"
   ]
  },
  {
   "cell_type": "code",
   "execution_count": 21,
   "id": "a8e04938",
   "metadata": {},
   "outputs": [],
   "source": [
    "name1, versity1 = zip(*zipped.items())"
   ]
  },
  {
   "cell_type": "code",
   "execution_count": 22,
   "id": "458cb86e",
   "metadata": {},
   "outputs": [],
   "source": [
    "zipped = list(zip(name1, versity1))"
   ]
  },
  {
   "cell_type": "code",
   "execution_count": 23,
   "id": "eae6b197",
   "metadata": {},
   "outputs": [
    {
     "data": {
      "text/plain": [
       "[('Nur', 'DIU'), ('Shaminoor', 'AIUB'), ('Dipto', 'NSU')]"
      ]
     },
     "execution_count": 23,
     "metadata": {},
     "output_type": "execute_result"
    }
   ],
   "source": [
    "zipped"
   ]
  },
  {
   "cell_type": "code",
   "execution_count": 24,
   "id": "7644bd0a",
   "metadata": {},
   "outputs": [],
   "source": [
    "name2, versity2 = zip(*zipped)"
   ]
  },
  {
   "cell_type": "code",
   "execution_count": null,
   "id": "7f281de8",
   "metadata": {},
   "outputs": [],
   "source": []
  }
 ],
 "metadata": {
  "kernelspec": {
   "display_name": "Python 3 (ipykernel)",
   "language": "python",
   "name": "python3"
  },
  "language_info": {
   "codemirror_mode": {
    "name": "ipython",
    "version": 3
   },
   "file_extension": ".py",
   "mimetype": "text/x-python",
   "name": "python",
   "nbconvert_exporter": "python",
   "pygments_lexer": "ipython3",
   "version": "3.11.4"
  }
 },
 "nbformat": 4,
 "nbformat_minor": 5
}
