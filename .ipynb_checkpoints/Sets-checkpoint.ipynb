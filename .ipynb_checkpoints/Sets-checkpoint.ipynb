{
 "cells": [
  {
   "cell_type": "code",
   "execution_count": 3,
   "id": "82633263",
   "metadata": {},
   "outputs": [],
   "source": [
    "set1 = {12, 55, 1, (1, 52, 622), 'Kahani suno'}"
   ]
  },
  {
   "cell_type": "code",
   "execution_count": 4,
   "id": "8ea4d045",
   "metadata": {},
   "outputs": [
    {
     "data": {
      "text/plain": [
       "{(1, 52, 622), 1, 12, 55, 'Kahani suno'}"
      ]
     },
     "execution_count": 4,
     "metadata": {},
     "output_type": "execute_result"
    }
   ],
   "source": [
    "set1"
   ]
  },
  {
   "cell_type": "code",
   "execution_count": 5,
   "id": "1f9f6667",
   "metadata": {},
   "outputs": [
    {
     "ename": "TypeError",
     "evalue": "'set' object is not subscriptable",
     "output_type": "error",
     "traceback": [
      "\u001b[1;31m---------------------------------------------------------------------------\u001b[0m",
      "\u001b[1;31mTypeError\u001b[0m                                 Traceback (most recent call last)",
      "Cell \u001b[1;32mIn[5], line 1\u001b[0m\n\u001b[1;32m----> 1\u001b[0m \u001b[43mset1\u001b[49m\u001b[43m[\u001b[49m\u001b[38;5;241;43m2\u001b[39;49m\u001b[43m]\u001b[49m\n",
      "\u001b[1;31mTypeError\u001b[0m: 'set' object is not subscriptable"
     ]
    }
   ],
   "source": [
    "set1[2]"
   ]
  },
  {
   "cell_type": "code",
   "execution_count": 6,
   "id": "01ef076a",
   "metadata": {},
   "outputs": [
    {
     "ename": "TypeError",
     "evalue": "'set' object does not support item assignment",
     "output_type": "error",
     "traceback": [
      "\u001b[1;31m---------------------------------------------------------------------------\u001b[0m",
      "\u001b[1;31mTypeError\u001b[0m                                 Traceback (most recent call last)",
      "Cell \u001b[1;32mIn[6], line 1\u001b[0m\n\u001b[1;32m----> 1\u001b[0m \u001b[43mset1\u001b[49m\u001b[43m[\u001b[49m\u001b[38;5;241;43m0\u001b[39;49m\u001b[43m]\u001b[49m \u001b[38;5;241m=\u001b[39m \u001b[38;5;124m'\u001b[39m\u001b[38;5;124mkk\u001b[39m\u001b[38;5;124m'\u001b[39m\n",
      "\u001b[1;31mTypeError\u001b[0m: 'set' object does not support item assignment"
     ]
    }
   ],
   "source": [
    "set1[0] = 'kk'"
   ]
  },
  {
   "cell_type": "code",
   "execution_count": 7,
   "id": "0e26afb6",
   "metadata": {},
   "outputs": [],
   "source": [
    "l = list(set1)"
   ]
  },
  {
   "cell_type": "code",
   "execution_count": 8,
   "id": "bf64e41b",
   "metadata": {},
   "outputs": [
    {
     "data": {
      "text/plain": [
       "[1, (1, 52, 622), 55, 12, 'Kahani suno']"
      ]
     },
     "execution_count": 8,
     "metadata": {},
     "output_type": "execute_result"
    }
   ],
   "source": [
    "l"
   ]
  },
  {
   "cell_type": "code",
   "execution_count": 9,
   "id": "5bfd3f64",
   "metadata": {},
   "outputs": [],
   "source": [
    "set2 = set(l)"
   ]
  },
  {
   "cell_type": "code",
   "execution_count": 10,
   "id": "19364c51",
   "metadata": {},
   "outputs": [
    {
     "data": {
      "text/plain": [
       "{(1, 52, 622), 1, 12, 55, 'Kahani suno'}"
      ]
     },
     "execution_count": 10,
     "metadata": {},
     "output_type": "execute_result"
    }
   ],
   "source": [
    "set2"
   ]
  },
  {
   "cell_type": "code",
   "execution_count": 11,
   "id": "13fe0788",
   "metadata": {},
   "outputs": [],
   "source": [
    "l.append(1)"
   ]
  },
  {
   "cell_type": "code",
   "execution_count": 12,
   "id": "e5ea023c",
   "metadata": {},
   "outputs": [],
   "source": [
    "set2 = set(l)"
   ]
  },
  {
   "cell_type": "code",
   "execution_count": 13,
   "id": "5def9462",
   "metadata": {},
   "outputs": [
    {
     "data": {
      "text/plain": [
       "{(1, 52, 622), 1, 12, 55, 'Kahani suno'}"
      ]
     },
     "execution_count": 13,
     "metadata": {},
     "output_type": "execute_result"
    }
   ],
   "source": [
    "set2"
   ]
  },
  {
   "cell_type": "code",
   "execution_count": 14,
   "id": "6ad5adf8",
   "metadata": {},
   "outputs": [
    {
     "data": {
      "text/plain": [
       "[1, (1, 52, 622), 55, 12, 'Kahani suno', 1]"
      ]
     },
     "execution_count": 14,
     "metadata": {},
     "output_type": "execute_result"
    }
   ],
   "source": [
    "l"
   ]
  },
  {
   "cell_type": "code",
   "execution_count": 15,
   "id": "3338b5b6",
   "metadata": {},
   "outputs": [],
   "source": [
    "set3 = {}"
   ]
  },
  {
   "cell_type": "code",
   "execution_count": 16,
   "id": "655d97a8",
   "metadata": {},
   "outputs": [
    {
     "data": {
      "text/plain": [
       "dict"
      ]
     },
     "execution_count": 16,
     "metadata": {},
     "output_type": "execute_result"
    }
   ],
   "source": [
    "type(set3)"
   ]
  },
  {
   "cell_type": "code",
   "execution_count": 17,
   "id": "5a64f6df",
   "metadata": {},
   "outputs": [],
   "source": [
    "set4 = set()"
   ]
  },
  {
   "cell_type": "code",
   "execution_count": 18,
   "id": "60462e6b",
   "metadata": {},
   "outputs": [
    {
     "data": {
      "text/plain": [
       "set"
      ]
     },
     "execution_count": 18,
     "metadata": {},
     "output_type": "execute_result"
    }
   ],
   "source": [
    "type(set4)"
   ]
  },
  {
   "cell_type": "code",
   "execution_count": 19,
   "id": "10b4e414",
   "metadata": {},
   "outputs": [],
   "source": [
    "set1.add(63) # for adding a single value"
   ]
  },
  {
   "cell_type": "code",
   "execution_count": 20,
   "id": "82e756b9",
   "metadata": {},
   "outputs": [
    {
     "data": {
      "text/plain": [
       "{(1, 52, 622), 1, 12, 55, 63, 'Kahani suno'}"
      ]
     },
     "execution_count": 20,
     "metadata": {},
     "output_type": "execute_result"
    }
   ],
   "source": [
    "set1"
   ]
  },
  {
   "cell_type": "code",
   "execution_count": 21,
   "id": "c3ad8f2e",
   "metadata": {},
   "outputs": [],
   "source": [
    "set1.add(63)"
   ]
  },
  {
   "cell_type": "code",
   "execution_count": 22,
   "id": "aafade9d",
   "metadata": {},
   "outputs": [
    {
     "data": {
      "text/plain": [
       "{(1, 52, 622), 1, 12, 55, 63, 'Kahani suno'}"
      ]
     },
     "execution_count": 22,
     "metadata": {},
     "output_type": "execute_result"
    }
   ],
   "source": [
    "set1"
   ]
  },
  {
   "cell_type": "code",
   "execution_count": 27,
   "id": "2a945b9d",
   "metadata": {},
   "outputs": [],
   "source": [
    "set1.update([32, 525]) # for adding multiple values "
   ]
  },
  {
   "cell_type": "code",
   "execution_count": 28,
   "id": "f37ceeab",
   "metadata": {},
   "outputs": [
    {
     "data": {
      "text/plain": [
       "{(1, 52, 622), 1, 12, 32, 525, 55, 63, 'Kahani suno'}"
      ]
     },
     "execution_count": 28,
     "metadata": {},
     "output_type": "execute_result"
    }
   ],
   "source": [
    "set1"
   ]
  },
  {
   "cell_type": "code",
   "execution_count": 29,
   "id": "c005209a",
   "metadata": {},
   "outputs": [],
   "source": [
    "set1.update([622, 62, 77])"
   ]
  },
  {
   "cell_type": "code",
   "execution_count": 30,
   "id": "647717e4",
   "metadata": {},
   "outputs": [
    {
     "data": {
      "text/plain": [
       "{(1, 52, 622), 1, 12, 32, 525, 55, 62, 622, 63, 77, 'Kahani suno'}"
      ]
     },
     "execution_count": 30,
     "metadata": {},
     "output_type": "execute_result"
    }
   ],
   "source": [
    "set1"
   ]
  },
  {
   "cell_type": "code",
   "execution_count": 31,
   "id": "1c1ef091",
   "metadata": {},
   "outputs": [
    {
     "data": {
      "text/plain": [
       "1"
      ]
     },
     "execution_count": 31,
     "metadata": {},
     "output_type": "execute_result"
    }
   ],
   "source": [
    "set1.pop()"
   ]
  },
  {
   "cell_type": "code",
   "execution_count": 32,
   "id": "86ca695d",
   "metadata": {},
   "outputs": [
    {
     "data": {
      "text/plain": [
       "12"
      ]
     },
     "execution_count": 32,
     "metadata": {},
     "output_type": "execute_result"
    }
   ],
   "source": [
    "set1.pop()"
   ]
  },
  {
   "cell_type": "code",
   "execution_count": 33,
   "id": "f883a3db",
   "metadata": {},
   "outputs": [
    {
     "data": {
      "text/plain": [
       "525"
      ]
     },
     "execution_count": 33,
     "metadata": {},
     "output_type": "execute_result"
    }
   ],
   "source": [
    "set1.pop()"
   ]
  },
  {
   "cell_type": "code",
   "execution_count": 34,
   "id": "5cb88416",
   "metadata": {},
   "outputs": [],
   "source": [
    "set1.remove('Kahani suno')"
   ]
  },
  {
   "cell_type": "code",
   "execution_count": 35,
   "id": "0a36a343",
   "metadata": {},
   "outputs": [
    {
     "data": {
      "text/plain": [
       "{(1, 52, 622), 32, 55, 62, 622, 63, 77}"
      ]
     },
     "execution_count": 35,
     "metadata": {},
     "output_type": "execute_result"
    }
   ],
   "source": [
    "set1"
   ]
  },
  {
   "cell_type": "code",
   "execution_count": 36,
   "id": "d7115f75",
   "metadata": {},
   "outputs": [
    {
     "ename": "KeyError",
     "evalue": "'Kahani suno'",
     "output_type": "error",
     "traceback": [
      "\u001b[1;31m---------------------------------------------------------------------------\u001b[0m",
      "\u001b[1;31mKeyError\u001b[0m                                  Traceback (most recent call last)",
      "Cell \u001b[1;32mIn[36], line 1\u001b[0m\n\u001b[1;32m----> 1\u001b[0m \u001b[43mset1\u001b[49m\u001b[38;5;241;43m.\u001b[39;49m\u001b[43mremove\u001b[49m\u001b[43m(\u001b[49m\u001b[38;5;124;43m'\u001b[39;49m\u001b[38;5;124;43mKahani suno\u001b[39;49m\u001b[38;5;124;43m'\u001b[39;49m\u001b[43m)\u001b[49m\n",
      "\u001b[1;31mKeyError\u001b[0m: 'Kahani suno'"
     ]
    }
   ],
   "source": [
    "set1.remove('Kahani suno')"
   ]
  },
  {
   "cell_type": "code",
   "execution_count": 37,
   "id": "4ebc6b8b",
   "metadata": {},
   "outputs": [],
   "source": [
    "set1.discard(55)"
   ]
  },
  {
   "cell_type": "code",
   "execution_count": 38,
   "id": "23939a00",
   "metadata": {},
   "outputs": [
    {
     "data": {
      "text/plain": [
       "{(1, 52, 622), 32, 62, 622, 63, 77}"
      ]
     },
     "execution_count": 38,
     "metadata": {},
     "output_type": "execute_result"
    }
   ],
   "source": [
    "set1"
   ]
  },
  {
   "cell_type": "code",
   "execution_count": 39,
   "id": "7e2d900e",
   "metadata": {},
   "outputs": [],
   "source": [
    "set1.discard(55)"
   ]
  },
  {
   "cell_type": "code",
   "execution_count": 40,
   "id": "2b801da8",
   "metadata": {},
   "outputs": [
    {
     "data": {
      "text/plain": [
       "{(1, 52, 622), 32, 62, 622, 63, 77}"
      ]
     },
     "execution_count": 40,
     "metadata": {},
     "output_type": "execute_result"
    }
   ],
   "source": [
    "set1"
   ]
  },
  {
   "cell_type": "code",
   "execution_count": 41,
   "id": "d63b712a",
   "metadata": {},
   "outputs": [],
   "source": [
    "set3.clear()"
   ]
  },
  {
   "cell_type": "code",
   "execution_count": 42,
   "id": "d4738dd0",
   "metadata": {},
   "outputs": [
    {
     "data": {
      "text/plain": [
       "{}"
      ]
     },
     "execution_count": 42,
     "metadata": {},
     "output_type": "execute_result"
    }
   ],
   "source": [
    "set3"
   ]
  },
  {
   "cell_type": "code",
   "execution_count": null,
   "id": "78096eab",
   "metadata": {},
   "outputs": [],
   "source": []
  }
 ],
 "metadata": {
  "kernelspec": {
   "display_name": "Python 3 (ipykernel)",
   "language": "python",
   "name": "python3"
  },
  "language_info": {
   "codemirror_mode": {
    "name": "ipython",
    "version": 3
   },
   "file_extension": ".py",
   "mimetype": "text/x-python",
   "name": "python",
   "nbconvert_exporter": "python",
   "pygments_lexer": "ipython3",
   "version": "3.11.4"
  }
 },
 "nbformat": 4,
 "nbformat_minor": 5
}
