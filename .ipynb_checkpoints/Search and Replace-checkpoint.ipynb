{
 "cells": [
  {
   "cell_type": "code",
   "execution_count": 1,
   "id": "8ecee390",
   "metadata": {},
   "outputs": [],
   "source": [
    "with open(r'kukur.txt','r') as file:\n",
    "    data = file.read()\n",
    "    data = data.replace('bukeri ei', 'moneri ai')"
   ]
  },
  {
   "cell_type": "code",
   "execution_count": 2,
   "id": "016530f1",
   "metadata": {},
   "outputs": [],
   "source": [
    "with open(r'kukur.txt', 'w') as file:\n",
    "    file.write(data)"
   ]
  },
  {
   "cell_type": "code",
   "execution_count": 6,
   "id": "138aa53f",
   "metadata": {},
   "outputs": [],
   "source": [
    "text = 'Bukeri kosto du haat shoriye'"
   ]
  },
  {
   "cell_type": "code",
   "execution_count": 7,
   "id": "cdc5d3e3",
   "metadata": {},
   "outputs": [],
   "source": [
    "import re\n",
    "text = re.sub('Bukeri', 'Moneri', text)"
   ]
  },
  {
   "cell_type": "code",
   "execution_count": 8,
   "id": "7c5ea9d5",
   "metadata": {},
   "outputs": [
    {
     "data": {
      "text/plain": [
       "'Moneri kosto du haat shoriye'"
      ]
     },
     "execution_count": 8,
     "metadata": {},
     "output_type": "execute_result"
    }
   ],
   "source": [
    "text"
   ]
  },
  {
   "cell_type": "code",
   "execution_count": null,
   "id": "f27c8eb6",
   "metadata": {},
   "outputs": [],
   "source": []
  }
 ],
 "metadata": {
  "kernelspec": {
   "display_name": "Python 3 (ipykernel)",
   "language": "python",
   "name": "python3"
  },
  "language_info": {
   "codemirror_mode": {
    "name": "ipython",
    "version": 3
   },
   "file_extension": ".py",
   "mimetype": "text/x-python",
   "name": "python",
   "nbconvert_exporter": "python",
   "pygments_lexer": "ipython3",
   "version": "3.11.4"
  }
 },
 "nbformat": 4,
 "nbformat_minor": 5
}
