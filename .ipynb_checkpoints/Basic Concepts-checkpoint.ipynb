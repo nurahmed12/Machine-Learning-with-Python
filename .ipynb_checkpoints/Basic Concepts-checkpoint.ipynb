{
 "cells": [
  {
   "cell_type": "code",
   "execution_count": 4,
   "id": "dfdd24b4",
   "metadata": {},
   "outputs": [
    {
     "name": "stdout",
     "output_type": "stream",
     "text": [
      "Hello world , how are you?1"
     ]
    }
   ],
   "source": [
    "print('Hello world', 'how are you?', sep = ' , ', end = '1' )"
   ]
  },
  {
   "cell_type": "code",
   "execution_count": 5,
   "id": "f70204be",
   "metadata": {},
   "outputs": [
    {
     "name": "stdout",
     "output_type": "stream",
     "text": [
      "Sup man?\n"
     ]
    }
   ],
   "source": [
    "var = 'Sup man?'\n",
    "print(var)"
   ]
  },
  {
   "cell_type": "code",
   "execution_count": 6,
   "id": "8077c299",
   "metadata": {},
   "outputs": [
    {
     "name": "stdout",
     "output_type": "stream",
     "text": [
      "I just wanna say Sup man?\n"
     ]
    }
   ],
   "source": [
    "print('I just wanna say ' + var)"
   ]
  },
  {
   "cell_type": "markdown",
   "id": "fdefd12e",
   "metadata": {},
   "source": [
    "# Showing the Memory Address of a variable"
   ]
  },
  {
   "cell_type": "code",
   "execution_count": 7,
   "id": "17b336a1",
   "metadata": {},
   "outputs": [
    {
     "data": {
      "text/plain": [
       "2517511991472"
      ]
     },
     "execution_count": 7,
     "metadata": {},
     "output_type": "execute_result"
    }
   ],
   "source": [
    "id(var)"
   ]
  },
  {
   "cell_type": "markdown",
   "id": "0f48e0f4",
   "metadata": {},
   "source": [
    "# Showing the Memory consumption of a variable"
   ]
  },
  {
   "cell_type": "code",
   "execution_count": 8,
   "id": "89da4c63",
   "metadata": {},
   "outputs": [
    {
     "data": {
      "text/plain": [
       "57"
      ]
     },
     "execution_count": 8,
     "metadata": {},
     "output_type": "execute_result"
    }
   ],
   "source": [
    "import sys\n",
    "sys.getsizeof(var)"
   ]
  },
  {
   "cell_type": "code",
   "execution_count": 9,
   "id": "c50c3509",
   "metadata": {},
   "outputs": [],
   "source": [
    "x = 2323"
   ]
  },
  {
   "cell_type": "code",
   "execution_count": 10,
   "id": "c3b3d046",
   "metadata": {},
   "outputs": [
    {
     "data": {
      "text/plain": [
       "2323"
      ]
     },
     "execution_count": 10,
     "metadata": {},
     "output_type": "execute_result"
    }
   ],
   "source": [
    "x"
   ]
  },
  {
   "cell_type": "code",
   "execution_count": 11,
   "id": "87064119",
   "metadata": {},
   "outputs": [],
   "source": [
    "y = 123"
   ]
  },
  {
   "cell_type": "code",
   "execution_count": 12,
   "id": "c9c23352",
   "metadata": {},
   "outputs": [
    {
     "data": {
      "text/plain": [
       "123"
      ]
     },
     "execution_count": 12,
     "metadata": {},
     "output_type": "execute_result"
    }
   ],
   "source": [
    "y"
   ]
  },
  {
   "cell_type": "code",
   "execution_count": 13,
   "id": "879d0311",
   "metadata": {},
   "outputs": [
    {
     "data": {
      "text/plain": [
       "140711789437544"
      ]
     },
     "execution_count": 13,
     "metadata": {},
     "output_type": "execute_result"
    }
   ],
   "source": [
    "id(x)\n",
    "id(y)"
   ]
  },
  {
   "cell_type": "code",
   "execution_count": 14,
   "id": "e617b935",
   "metadata": {},
   "outputs": [],
   "source": [
    "a,b,c = 123,15,56"
   ]
  },
  {
   "cell_type": "code",
   "execution_count": 15,
   "id": "b34ed10b",
   "metadata": {},
   "outputs": [
    {
     "data": {
      "text/plain": [
       "123"
      ]
     },
     "execution_count": 15,
     "metadata": {},
     "output_type": "execute_result"
    }
   ],
   "source": [
    "a"
   ]
  },
  {
   "cell_type": "code",
   "execution_count": 19,
   "id": "7dc95543",
   "metadata": {},
   "outputs": [],
   "source": [
    "def func1():\n",
    "    print('Mota Mota')\n",
    "    a = 44\n",
    "    print(a)\n",
    "\n",
    "def func2():\n",
    "    print('CHikna Chikna')"
   ]
  },
  {
   "cell_type": "code",
   "execution_count": 20,
   "id": "1a5c8b25",
   "metadata": {},
   "outputs": [
    {
     "name": "stdout",
     "output_type": "stream",
     "text": [
      "Mota Mota\n",
      "44\n",
      "CHikna Chikna\n"
     ]
    }
   ],
   "source": [
    "func1()\n",
    "func2()"
   ]
  },
  {
   "cell_type": "code",
   "execution_count": 21,
   "id": "5537167c",
   "metadata": {},
   "outputs": [
    {
     "name": "stdout",
     "output_type": "stream",
     "text": [
      "123\n",
      "Mota Mota\n",
      "44\n"
     ]
    }
   ],
   "source": [
    "print(a)\n",
    "func1()"
   ]
  },
  {
   "cell_type": "code",
   "execution_count": 24,
   "id": "fe7691d6",
   "metadata": {},
   "outputs": [],
   "source": [
    "def func3():\n",
    "    global a\n",
    "    a = 100\n",
    "    print(a)"
   ]
  },
  {
   "cell_type": "code",
   "execution_count": 25,
   "id": "5d1df803",
   "metadata": {},
   "outputs": [
    {
     "name": "stdout",
     "output_type": "stream",
     "text": [
      "123\n",
      "Mota Mota\n",
      "44\n",
      "100\n"
     ]
    }
   ],
   "source": [
    "print(a)\n",
    "func1()\n",
    "func3()"
   ]
  },
  {
   "cell_type": "code",
   "execution_count": 26,
   "id": "9aa4c8b4",
   "metadata": {},
   "outputs": [
    {
     "name": "stdout",
     "output_type": "stream",
     "text": [
      "Mota Mota\n",
      "44\n",
      "100\n",
      "100\n"
     ]
    }
   ],
   "source": [
    "func1()\n",
    "func3()\n",
    "print(a)"
   ]
  },
  {
   "cell_type": "code",
   "execution_count": null,
   "id": "0ce76c14",
   "metadata": {},
   "outputs": [],
   "source": []
  }
 ],
 "metadata": {
  "kernelspec": {
   "display_name": "Python 3 (ipykernel)",
   "language": "python",
   "name": "python3"
  },
  "language_info": {
   "codemirror_mode": {
    "name": "ipython",
    "version": 3
   },
   "file_extension": ".py",
   "mimetype": "text/x-python",
   "name": "python",
   "nbconvert_exporter": "python",
   "pygments_lexer": "ipython3",
   "version": "3.11.4"
  }
 },
 "nbformat": 4,
 "nbformat_minor": 5
}
