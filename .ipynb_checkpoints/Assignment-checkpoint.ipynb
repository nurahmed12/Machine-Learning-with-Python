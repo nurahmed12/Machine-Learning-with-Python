{
 "cells": [
  {
   "cell_type": "code",
   "execution_count": 2,
   "id": "463fe442",
   "metadata": {},
   "outputs": [
    {
     "name": "stdout",
     "output_type": "stream",
     "text": [
      "Enter a number : 22\n",
      "Enter another number : 35\n",
      "It is not a square\n"
     ]
    }
   ],
   "source": [
    "breadth = float(input(\"Enter a number : \"))\n",
    "length = float(input(\"Enter another number : \"))\n",
    "\n",
    "if length == breadth :\n",
    "    print('It is a square.')\n",
    "else:\n",
    "    print(\"It is not a square\")"
   ]
  },
  {
   "cell_type": "code",
   "execution_count": 4,
   "id": "f18eebeb",
   "metadata": {},
   "outputs": [
    {
     "name": "stdout",
     "output_type": "stream",
     "text": [
      "Enter your or your student's mark : 55\n",
      "Grade B\n"
     ]
    }
   ],
   "source": [
    "marks = float(input(\"Enter your or your student's mark : \"))\n",
    "\n",
    "if marks >= 80 and marks <= 100 :\n",
    "    print(\"Grade A+\")\n",
    "elif marks >= 70 and marks <= 100 :\n",
    "    print('Grade A')\n",
    "elif marks >= 60 and marks <= 100 : \n",
    "    print(\"Grade A-\")\n",
    "elif marks >= 50 and marks <= 100 :\n",
    "    print('Grade B')\n",
    "elif marks >= 40 and marks <= 100 :\n",
    "    print(\"Grade C\")\n",
    "elif marks >= 30 and marks <= 100 :\n",
    "    print('Passed')\n",
    "elif marks < 30 and marks >= 0 :\n",
    "    print('Failed')\n",
    "else:\n",
    "    print(\"Invalid mark\")"
   ]
  },
  {
   "cell_type": "code",
   "execution_count": null,
   "id": "6f824681",
   "metadata": {},
   "outputs": [],
   "source": []
  }
 ],
 "metadata": {
  "kernelspec": {
   "display_name": "Python 3 (ipykernel)",
   "language": "python",
   "name": "python3"
  },
  "language_info": {
   "codemirror_mode": {
    "name": "ipython",
    "version": 3
   },
   "file_extension": ".py",
   "mimetype": "text/x-python",
   "name": "python",
   "nbconvert_exporter": "python",
   "pygments_lexer": "ipython3",
   "version": "3.11.4"
  }
 },
 "nbformat": 4,
 "nbformat_minor": 5
}
