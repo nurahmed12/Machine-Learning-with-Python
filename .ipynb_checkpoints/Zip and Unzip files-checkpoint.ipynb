{
 "cells": [
  {
   "cell_type": "code",
   "execution_count": 3,
   "id": "54e2c431",
   "metadata": {},
   "outputs": [],
   "source": [
    "import zipfile as zip\n",
    "\n",
    "zipped = zip.ZipFile('Zipped PNG.zip', 'w')\n",
    "\n",
    "zipped.write('Goku1.png')\n",
    "zipped.write('Goku2.png')\n",
    "zipped.write('Goku3.png')\n",
    "zipped.write('Goku4.png')"
   ]
  },
  {
   "cell_type": "code",
   "execution_count": 4,
   "id": "42df0886",
   "metadata": {},
   "outputs": [],
   "source": [
    "with zip.ZipFile('Zipped PNG.zip', 'r') as file:\n",
    "    file.extractall('Zipped files')"
   ]
  },
  {
   "cell_type": "code",
   "execution_count": null,
   "id": "36c5b430",
   "metadata": {},
   "outputs": [],
   "source": []
  }
 ],
 "metadata": {
  "kernelspec": {
   "display_name": "Python 3 (ipykernel)",
   "language": "python",
   "name": "python3"
  },
  "language_info": {
   "codemirror_mode": {
    "name": "ipython",
    "version": 3
   },
   "file_extension": ".py",
   "mimetype": "text/x-python",
   "name": "python",
   "nbconvert_exporter": "python",
   "pygments_lexer": "ipython3",
   "version": "3.11.4"
  }
 },
 "nbformat": 4,
 "nbformat_minor": 5
}
