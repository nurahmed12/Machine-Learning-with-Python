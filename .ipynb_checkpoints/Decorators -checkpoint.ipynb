{
 "cells": [
  {
   "cell_type": "code",
   "execution_count": 2,
   "id": "b8108682",
   "metadata": {},
   "outputs": [],
   "source": [
    "# Infinite Loop\n",
    "\n",
    "# def fun1(fun):\n",
    "#     print(\"How are you?\")\n",
    "#     fun(fun1)\n",
    "    \n",
    "# def fun2(fun):\n",
    "#     print(\"Who are you?\")\n",
    "#     fun(fun2)\n",
    "    \n",
    "# fun2(fun1)"
   ]
  },
  {
   "cell_type": "code",
   "execution_count": 4,
   "id": "5afc8e28",
   "metadata": {},
   "outputs": [
    {
     "name": "stdout",
     "output_type": "stream",
     "text": [
      "Where have you been?\n",
      "How are you?\n"
     ]
    }
   ],
   "source": [
    "def fun1():\n",
    "    print(\"How are you?\")\n",
    "    \n",
    "def fun2():\n",
    "    print(\"Where have you been?\")\n",
    "    fun1()\n",
    "    \n",
    "fun2()"
   ]
  },
  {
   "cell_type": "code",
   "execution_count": 13,
   "id": "38a9fa43",
   "metadata": {},
   "outputs": [
    {
     "name": "stdout",
     "output_type": "stream",
     "text": [
      "Running before the Function is executed\n",
      "3 + 2 = 5\n",
      "Running after the Function is executed\n",
      "Running before the Function is executed\n",
      "4 + 5 = 9\n",
      "Running after the Function is executed\n"
     ]
    }
   ],
   "source": [
    "def test1(fx):\n",
    "    def mfx(*args, **kwargs):\n",
    "        print(\"Running before the Function is executed\")\n",
    "        fx(*args, **kwargs)\n",
    "        print(\"Running after the Function is executed\")\n",
    "    \n",
    "    return mfx\n",
    "        \n",
    "@test1\n",
    "def sum():\n",
    "    print(f\"{3} + {2} = {3 + 2}\")\n",
    "\n",
    "@test1\n",
    "def add(a, b):\n",
    "    print(f\"{a} + {b} = {a + b}\")\n",
    "    \n",
    "sum()\n",
    "add(4, 5)"
   ]
  },
  {
   "cell_type": "code",
   "execution_count": null,
   "id": "b3b7f1e6",
   "metadata": {},
   "outputs": [],
   "source": []
  }
 ],
 "metadata": {
  "kernelspec": {
   "display_name": "Python 3 (ipykernel)",
   "language": "python",
   "name": "python3"
  },
  "language_info": {
   "codemirror_mode": {
    "name": "ipython",
    "version": 3
   },
   "file_extension": ".py",
   "mimetype": "text/x-python",
   "name": "python",
   "nbconvert_exporter": "python",
   "pygments_lexer": "ipython3",
   "version": "3.11.4"
  }
 },
 "nbformat": 4,
 "nbformat_minor": 5
}
