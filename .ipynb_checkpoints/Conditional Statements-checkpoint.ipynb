{
 "cells": [
  {
   "cell_type": "code",
   "execution_count": 11,
   "id": "30350a7e",
   "metadata": {},
   "outputs": [
    {
     "name": "stdout",
     "output_type": "stream",
     "text": [
      "Enter a number : 9\n"
     ]
    }
   ],
   "source": [
    "x = int(input('Enter a number : '))"
   ]
  },
  {
   "cell_type": "code",
   "execution_count": 12,
   "id": "cd060a4f",
   "metadata": {},
   "outputs": [
    {
     "name": "stdout",
     "output_type": "stream",
     "text": [
      "Enter another number : 9\n"
     ]
    }
   ],
   "source": [
    "y = int(input(\"Enter another number : \"))"
   ]
  },
  {
   "cell_type": "code",
   "execution_count": 13,
   "id": "52fa3738",
   "metadata": {},
   "outputs": [
    {
     "name": "stdout",
     "output_type": "stream",
     "text": [
      "Equal and Odd number.\n"
     ]
    }
   ],
   "source": [
    "if x < y:\n",
    "    if x < 12 and x % 2 == 0:\n",
    "        print('Even and small number.')\n",
    "    elif x > 12 and x % 2 == 0:\n",
    "        print('Even and large number.')\n",
    "    elif x < 12 and x % 2 != 0:\n",
    "        print('Odd and small number.')\n",
    "    elif x > 12 and x % 2 != 0:\n",
    "        print('Odd and large number.')\n",
    "        \n",
    "elif x == y:\n",
    "    if x % 2 == 0:\n",
    "        print('Equal and Even number.')\n",
    "    else:\n",
    "        print('Equal and Odd number.')\n",
    "\n",
    "else:\n",
    "    if x > 100:\n",
    "        print('Too large number.')\n",
    "    elif x == 100:\n",
    "        print('Average number.')\n",
    "    else:\n",
    "        print('Preferable number.')"
   ]
  },
  {
   "cell_type": "code",
   "execution_count": null,
   "id": "bfe359af",
   "metadata": {},
   "outputs": [],
   "source": []
  }
 ],
 "metadata": {
  "kernelspec": {
   "display_name": "Python 3 (ipykernel)",
   "language": "python",
   "name": "python3"
  },
  "language_info": {
   "codemirror_mode": {
    "name": "ipython",
    "version": 3
   },
   "file_extension": ".py",
   "mimetype": "text/x-python",
   "name": "python",
   "nbconvert_exporter": "python",
   "pygments_lexer": "ipython3",
   "version": "3.11.4"
  }
 },
 "nbformat": 4,
 "nbformat_minor": 5
}
