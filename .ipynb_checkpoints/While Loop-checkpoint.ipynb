{
 "cells": [
  {
   "cell_type": "code",
   "execution_count": 1,
   "id": "df7faa81",
   "metadata": {},
   "outputs": [
    {
     "name": "stdout",
     "output_type": "stream",
     "text": [
      "13214321\n"
     ]
    }
   ],
   "source": [
    "j = 12341231\n",
    "last_digit = 0\n",
    "new_j = 0\n",
    "\n",
    "while j > 0:\n",
    "    last_digit = j % 10\n",
    "    new_j = new_j * 10 + last_digit\n",
    "    j = j // 10\n",
    "    \n",
    "j = new_j\n",
    "print(j)"
   ]
  },
  {
   "cell_type": "code",
   "execution_count": 2,
   "id": "ef7c0a15",
   "metadata": {},
   "outputs": [
    {
     "name": "stdout",
     "output_type": "stream",
     "text": [
      "12341231\n"
     ]
    }
   ],
   "source": [
    "j = int(str(j)[::-1])\n",
    "print(j)"
   ]
  },
  {
   "cell_type": "code",
   "execution_count": 6,
   "id": "42aa7d7d",
   "metadata": {},
   "outputs": [
    {
     "name": "stdout",
     "output_type": "stream",
     "text": [
      "13214321\n"
     ]
    }
   ],
   "source": [
    "j = 12341231\n",
    "last_digit = 0\n",
    "new_j = 0\n",
    "\n",
    "for d in str(j):\n",
    "    last_digit = j % 10\n",
    "    new_j = new_j * 10 + last_digit\n",
    "    j = j // 10\n",
    "    \n",
    "j = new_j\n",
    "print(j)"
   ]
  },
  {
   "cell_type": "code",
   "execution_count": null,
   "id": "5941fda9",
   "metadata": {},
   "outputs": [],
   "source": []
  }
 ],
 "metadata": {
  "kernelspec": {
   "display_name": "Python 3 (ipykernel)",
   "language": "python",
   "name": "python3"
  },
  "language_info": {
   "codemirror_mode": {
    "name": "ipython",
    "version": 3
   },
   "file_extension": ".py",
   "mimetype": "text/x-python",
   "name": "python",
   "nbconvert_exporter": "python",
   "pygments_lexer": "ipython3",
   "version": "3.11.4"
  }
 },
 "nbformat": 4,
 "nbformat_minor": 5
}
