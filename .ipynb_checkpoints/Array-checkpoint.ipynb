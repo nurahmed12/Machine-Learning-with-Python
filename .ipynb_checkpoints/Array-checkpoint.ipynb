{
 "cells": [
  {
   "cell_type": "code",
   "execution_count": 7,
   "id": "faccb88a",
   "metadata": {},
   "outputs": [],
   "source": [
    "import array as ar\n",
    "ar1 = ar.array('i',[12, 541, 55, 12])"
   ]
  },
  {
   "cell_type": "code",
   "execution_count": 10,
   "id": "abf04e7d",
   "metadata": {},
   "outputs": [
    {
     "data": {
      "text/plain": [
       "array('i', [12, 541, 55, 12])"
      ]
     },
     "execution_count": 10,
     "metadata": {},
     "output_type": "execute_result"
    }
   ],
   "source": [
    "ar1"
   ]
  },
  {
   "cell_type": "code",
   "execution_count": 11,
   "id": "930c1cb4",
   "metadata": {},
   "outputs": [
    {
     "data": {
      "text/plain": [
       "55"
      ]
     },
     "execution_count": 11,
     "metadata": {},
     "output_type": "execute_result"
    }
   ],
   "source": [
    "ar1[2]"
   ]
  },
  {
   "cell_type": "code",
   "execution_count": 15,
   "id": "e11afab2",
   "metadata": {},
   "outputs": [
    {
     "data": {
      "text/plain": [
       "array('i', [12, 541, 55])"
      ]
     },
     "execution_count": 15,
     "metadata": {},
     "output_type": "execute_result"
    }
   ],
   "source": [
    "ar1[0 : -1]"
   ]
  },
  {
   "cell_type": "code",
   "execution_count": 16,
   "id": "0a59b2eb",
   "metadata": {},
   "outputs": [
    {
     "data": {
      "text/plain": [
       "541"
      ]
     },
     "execution_count": 16,
     "metadata": {},
     "output_type": "execute_result"
    }
   ],
   "source": [
    "ar1[-3]"
   ]
  },
  {
   "cell_type": "code",
   "execution_count": 18,
   "id": "1df61fdb",
   "metadata": {},
   "outputs": [
    {
     "data": {
      "text/plain": [
       "array('i', [541, 55])"
      ]
     },
     "execution_count": 18,
     "metadata": {},
     "output_type": "execute_result"
    }
   ],
   "source": [
    "ar1[-3 : -1]"
   ]
  },
  {
   "cell_type": "code",
   "execution_count": 20,
   "id": "4c926648",
   "metadata": {},
   "outputs": [],
   "source": [
    "ar1.append(45)"
   ]
  },
  {
   "cell_type": "code",
   "execution_count": 24,
   "id": "048dd3a4",
   "metadata": {},
   "outputs": [
    {
     "data": {
      "text/plain": [
       "array('i', [12, 541, 55, 12, 45])"
      ]
     },
     "execution_count": 24,
     "metadata": {},
     "output_type": "execute_result"
    }
   ],
   "source": [
    "ar1"
   ]
  },
  {
   "cell_type": "code",
   "execution_count": 27,
   "id": "ac8d61cd",
   "metadata": {},
   "outputs": [],
   "source": [
    "ar2 = ar.array('i',[])"
   ]
  },
  {
   "cell_type": "code",
   "execution_count": 28,
   "id": "89fe230c",
   "metadata": {},
   "outputs": [
    {
     "data": {
      "text/plain": [
       "array('i')"
      ]
     },
     "execution_count": 28,
     "metadata": {},
     "output_type": "execute_result"
    }
   ],
   "source": [
    "ar2"
   ]
  },
  {
   "cell_type": "code",
   "execution_count": 29,
   "id": "2728fad7",
   "metadata": {},
   "outputs": [
    {
     "ename": "IndexError",
     "evalue": "array assignment index out of range",
     "output_type": "error",
     "traceback": [
      "\u001b[1;31m---------------------------------------------------------------------------\u001b[0m",
      "\u001b[1;31mIndexError\u001b[0m                                Traceback (most recent call last)",
      "Cell \u001b[1;32mIn[29], line 2\u001b[0m\n\u001b[0;32m      1\u001b[0m \u001b[38;5;28;01mfor\u001b[39;00m i \u001b[38;5;129;01min\u001b[39;00m \u001b[38;5;28mrange\u001b[39m(\u001b[38;5;28mlen\u001b[39m(ar1)):\n\u001b[1;32m----> 2\u001b[0m     \u001b[43mar2\u001b[49m\u001b[43m[\u001b[49m\u001b[43mi\u001b[49m\u001b[43m]\u001b[49m \u001b[38;5;241m=\u001b[39m ar1[i]\n",
      "\u001b[1;31mIndexError\u001b[0m: array assignment index out of range"
     ]
    }
   ],
   "source": [
    "for i in range(len(ar1)):\n",
    "    ar2[i] = ar1[i]"
   ]
  },
  {
   "cell_type": "code",
   "execution_count": 30,
   "id": "86edb821",
   "metadata": {},
   "outputs": [
    {
     "ename": "AttributeError",
     "evalue": "'array.array' object has no attribute 'clear'",
     "output_type": "error",
     "traceback": [
      "\u001b[1;31m---------------------------------------------------------------------------\u001b[0m",
      "\u001b[1;31mAttributeError\u001b[0m                            Traceback (most recent call last)",
      "Cell \u001b[1;32mIn[30], line 1\u001b[0m\n\u001b[1;32m----> 1\u001b[0m \u001b[43mar2\u001b[49m\u001b[38;5;241;43m.\u001b[39;49m\u001b[43mclear\u001b[49m()\n",
      "\u001b[1;31mAttributeError\u001b[0m: 'array.array' object has no attribute 'clear'"
     ]
    }
   ],
   "source": [
    "ar2.clear()"
   ]
  },
  {
   "cell_type": "code",
   "execution_count": 31,
   "id": "a25c641a",
   "metadata": {},
   "outputs": [],
   "source": [
    "del ar2"
   ]
  },
  {
   "cell_type": "code",
   "execution_count": 32,
   "id": "aa0e66d7",
   "metadata": {},
   "outputs": [
    {
     "ename": "NameError",
     "evalue": "name 'ar2' is not defined",
     "output_type": "error",
     "traceback": [
      "\u001b[1;31m---------------------------------------------------------------------------\u001b[0m",
      "\u001b[1;31mNameError\u001b[0m                                 Traceback (most recent call last)",
      "Cell \u001b[1;32mIn[32], line 1\u001b[0m\n\u001b[1;32m----> 1\u001b[0m \u001b[43mar2\u001b[49m\n",
      "\u001b[1;31mNameError\u001b[0m: name 'ar2' is not defined"
     ]
    }
   ],
   "source": [
    "ar2"
   ]
  },
  {
   "cell_type": "code",
   "execution_count": 33,
   "id": "e98f9865",
   "metadata": {},
   "outputs": [],
   "source": [
    "l = [312, 12, 51, 1]"
   ]
  },
  {
   "cell_type": "code",
   "execution_count": 34,
   "id": "a4d0ace8",
   "metadata": {},
   "outputs": [],
   "source": [
    "ar1 = l.copy()"
   ]
  },
  {
   "cell_type": "code",
   "execution_count": 35,
   "id": "003d9f45",
   "metadata": {},
   "outputs": [
    {
     "data": {
      "text/plain": [
       "[312, 12, 51, 1]"
      ]
     },
     "execution_count": 35,
     "metadata": {},
     "output_type": "execute_result"
    }
   ],
   "source": [
    "ar1"
   ]
  },
  {
   "cell_type": "code",
   "execution_count": 36,
   "id": "8a18486a",
   "metadata": {},
   "outputs": [],
   "source": [
    "ar2 = ar.array('i',[])"
   ]
  },
  {
   "cell_type": "code",
   "execution_count": 37,
   "id": "2c8a61fd",
   "metadata": {},
   "outputs": [],
   "source": [
    "for i in range(len(ar1)):\n",
    "    ar2.append(ar1[i])"
   ]
  },
  {
   "cell_type": "code",
   "execution_count": 38,
   "id": "ccfa5d9e",
   "metadata": {},
   "outputs": [
    {
     "data": {
      "text/plain": [
       "array('i', [312, 12, 51, 1])"
      ]
     },
     "execution_count": 38,
     "metadata": {},
     "output_type": "execute_result"
    }
   ],
   "source": [
    "ar2"
   ]
  },
  {
   "cell_type": "code",
   "execution_count": 39,
   "id": "aac8f3ce",
   "metadata": {},
   "outputs": [
    {
     "data": {
      "text/plain": [
       "1"
      ]
     },
     "execution_count": 39,
     "metadata": {},
     "output_type": "execute_result"
    }
   ],
   "source": [
    "ar1.count(1)"
   ]
  },
  {
   "cell_type": "code",
   "execution_count": 40,
   "id": "6ecf7906",
   "metadata": {},
   "outputs": [],
   "source": [
    "ar1.extend(ar2)"
   ]
  },
  {
   "cell_type": "code",
   "execution_count": 41,
   "id": "78b35f9a",
   "metadata": {},
   "outputs": [
    {
     "data": {
      "text/plain": [
       "[312, 12, 51, 1, 312, 12, 51, 1]"
      ]
     },
     "execution_count": 41,
     "metadata": {},
     "output_type": "execute_result"
    }
   ],
   "source": [
    "ar1"
   ]
  },
  {
   "cell_type": "code",
   "execution_count": 42,
   "id": "3c71e1a9",
   "metadata": {},
   "outputs": [],
   "source": [
    "ar1.extend([12, 42, 1])"
   ]
  },
  {
   "cell_type": "code",
   "execution_count": 43,
   "id": "1a10ec40",
   "metadata": {},
   "outputs": [
    {
     "data": {
      "text/plain": [
       "[312, 12, 51, 1, 312, 12, 51, 1, 12, 42, 1]"
      ]
     },
     "execution_count": 43,
     "metadata": {},
     "output_type": "execute_result"
    }
   ],
   "source": [
    "ar1"
   ]
  },
  {
   "cell_type": "code",
   "execution_count": 44,
   "id": "84dd2b9f",
   "metadata": {},
   "outputs": [
    {
     "ename": "AttributeError",
     "evalue": "'list' object has no attribute 'update'",
     "output_type": "error",
     "traceback": [
      "\u001b[1;31m---------------------------------------------------------------------------\u001b[0m",
      "\u001b[1;31mAttributeError\u001b[0m                            Traceback (most recent call last)",
      "Cell \u001b[1;32mIn[44], line 1\u001b[0m\n\u001b[1;32m----> 1\u001b[0m \u001b[43mar1\u001b[49m\u001b[38;5;241;43m.\u001b[39;49m\u001b[43mupdate\u001b[49m([\u001b[38;5;241m44\u001b[39m, \u001b[38;5;241m32\u001b[39m, \u001b[38;5;241m1\u001b[39m])\n",
      "\u001b[1;31mAttributeError\u001b[0m: 'list' object has no attribute 'update'"
     ]
    }
   ],
   "source": [
    "ar1.update([44, 32, 1])"
   ]
  },
  {
   "cell_type": "code",
   "execution_count": 45,
   "id": "6bf93fa7",
   "metadata": {},
   "outputs": [
    {
     "data": {
      "text/plain": [
       "3"
      ]
     },
     "execution_count": 45,
     "metadata": {},
     "output_type": "execute_result"
    }
   ],
   "source": [
    "ar1.index(1)"
   ]
  },
  {
   "cell_type": "code",
   "execution_count": 46,
   "id": "7fd7a452",
   "metadata": {},
   "outputs": [
    {
     "data": {
      "text/plain": [
       "7"
      ]
     },
     "execution_count": 46,
     "metadata": {},
     "output_type": "execute_result"
    }
   ],
   "source": [
    "ar1.index(1, 4, -1)"
   ]
  },
  {
   "cell_type": "code",
   "execution_count": 49,
   "id": "358182e9",
   "metadata": {},
   "outputs": [],
   "source": [
    "ar2.insert(2, 23)"
   ]
  },
  {
   "cell_type": "code",
   "execution_count": 50,
   "id": "3944c57b",
   "metadata": {},
   "outputs": [
    {
     "data": {
      "text/plain": [
       "array('i', [312, 12, 23, 51, 1, 23])"
      ]
     },
     "execution_count": 50,
     "metadata": {},
     "output_type": "execute_result"
    }
   ],
   "source": [
    "ar2"
   ]
  },
  {
   "cell_type": "code",
   "execution_count": 51,
   "id": "2bb223db",
   "metadata": {},
   "outputs": [
    {
     "data": {
      "text/plain": [
       "1"
      ]
     },
     "execution_count": 51,
     "metadata": {},
     "output_type": "execute_result"
    }
   ],
   "source": [
    "ar1.pop()"
   ]
  },
  {
   "cell_type": "code",
   "execution_count": 52,
   "id": "ae28dd18",
   "metadata": {},
   "outputs": [
    {
     "data": {
      "text/plain": [
       "42"
      ]
     },
     "execution_count": 52,
     "metadata": {},
     "output_type": "execute_result"
    }
   ],
   "source": [
    "ar1.pop()"
   ]
  },
  {
   "cell_type": "code",
   "execution_count": 55,
   "id": "d0c32191",
   "metadata": {},
   "outputs": [
    {
     "data": {
      "text/plain": [
       "1"
      ]
     },
     "execution_count": 55,
     "metadata": {},
     "output_type": "execute_result"
    }
   ],
   "source": [
    "ar1.pop(7)"
   ]
  },
  {
   "cell_type": "code",
   "execution_count": 56,
   "id": "70fbad6a",
   "metadata": {},
   "outputs": [
    {
     "data": {
      "text/plain": [
       "[312, 12, 51, 1, 312, 12, 51, 12]"
      ]
     },
     "execution_count": 56,
     "metadata": {},
     "output_type": "execute_result"
    }
   ],
   "source": [
    "ar1"
   ]
  },
  {
   "cell_type": "code",
   "execution_count": 57,
   "id": "f018ee9d",
   "metadata": {},
   "outputs": [
    {
     "data": {
      "text/plain": [
       "312"
      ]
     },
     "execution_count": 57,
     "metadata": {},
     "output_type": "execute_result"
    }
   ],
   "source": [
    "ar1.pop(4)"
   ]
  },
  {
   "cell_type": "code",
   "execution_count": 58,
   "id": "1285b2e5",
   "metadata": {},
   "outputs": [],
   "source": [
    "ar1.remove(12)"
   ]
  },
  {
   "cell_type": "code",
   "execution_count": 59,
   "id": "01ecbd46",
   "metadata": {},
   "outputs": [
    {
     "data": {
      "text/plain": [
       "[312, 51, 1, 12, 51, 12]"
      ]
     },
     "execution_count": 59,
     "metadata": {},
     "output_type": "execute_result"
    }
   ],
   "source": [
    "ar1"
   ]
  },
  {
   "cell_type": "code",
   "execution_count": 60,
   "id": "c48f9cb2",
   "metadata": {},
   "outputs": [],
   "source": [
    "ar1.reverse()"
   ]
  },
  {
   "cell_type": "code",
   "execution_count": 61,
   "id": "0eaf2157",
   "metadata": {},
   "outputs": [
    {
     "data": {
      "text/plain": [
       "[12, 51, 12, 1, 51, 312]"
      ]
     },
     "execution_count": 61,
     "metadata": {},
     "output_type": "execute_result"
    }
   ],
   "source": [
    "ar1"
   ]
  },
  {
   "cell_type": "code",
   "execution_count": 63,
   "id": "ef4ac88d",
   "metadata": {},
   "outputs": [],
   "source": [
    "temp = ar1[1]\n",
    "ar1[1] = ar1[2]\n",
    "ar1[2] = temp"
   ]
  },
  {
   "cell_type": "code",
   "execution_count": 64,
   "id": "1acfe8d5",
   "metadata": {},
   "outputs": [
    {
     "data": {
      "text/plain": [
       "[12, 12, 12, 1, 51, 312]"
      ]
     },
     "execution_count": 64,
     "metadata": {},
     "output_type": "execute_result"
    }
   ],
   "source": [
    "ar1"
   ]
  },
  {
   "cell_type": "code",
   "execution_count": 74,
   "id": "53ce2c68",
   "metadata": {},
   "outputs": [
    {
     "data": {
      "text/plain": [
       "12"
      ]
     },
     "execution_count": 74,
     "metadata": {},
     "output_type": "execute_result"
    }
   ],
   "source": [
    "temp"
   ]
  },
  {
   "cell_type": "code",
   "execution_count": 75,
   "id": "37ab50dc",
   "metadata": {},
   "outputs": [],
   "source": [
    "temp = ar1[1]"
   ]
  },
  {
   "cell_type": "code",
   "execution_count": 76,
   "id": "090c0903",
   "metadata": {},
   "outputs": [
    {
     "data": {
      "text/plain": [
       "1"
      ]
     },
     "execution_count": 76,
     "metadata": {},
     "output_type": "execute_result"
    }
   ],
   "source": [
    "temp"
   ]
  },
  {
   "cell_type": "code",
   "execution_count": 77,
   "id": "7c2c9642",
   "metadata": {},
   "outputs": [],
   "source": [
    "ar1[1] = ar1[3]\n",
    "ar1[3] = temp"
   ]
  },
  {
   "cell_type": "code",
   "execution_count": 90,
   "id": "53e54d3f",
   "metadata": {},
   "outputs": [
    {
     "data": {
      "text/plain": [
       "[51, 51, 12, 1, 51, 12]"
      ]
     },
     "execution_count": 90,
     "metadata": {},
     "output_type": "execute_result"
    }
   ],
   "source": [
    "ar1"
   ]
  },
  {
   "cell_type": "code",
   "execution_count": 91,
   "id": "e191b2fa",
   "metadata": {},
   "outputs": [],
   "source": [
    "temp = ar1[-2]\n",
    "ar1[-2] = ar1[2]\n",
    "ar1[2] = temp"
   ]
  },
  {
   "cell_type": "code",
   "execution_count": 92,
   "id": "222c3c9b",
   "metadata": {},
   "outputs": [
    {
     "data": {
      "text/plain": [
       "[51, 51, 51, 1, 12, 12]"
      ]
     },
     "execution_count": 92,
     "metadata": {},
     "output_type": "execute_result"
    }
   ],
   "source": [
    "ar1"
   ]
  },
  {
   "cell_type": "code",
   "execution_count": null,
   "id": "5ab32a73",
   "metadata": {},
   "outputs": [],
   "source": []
  }
 ],
 "metadata": {
  "kernelspec": {
   "display_name": "Python 3 (ipykernel)",
   "language": "python",
   "name": "python3"
  },
  "language_info": {
   "codemirror_mode": {
    "name": "ipython",
    "version": 3
   },
   "file_extension": ".py",
   "mimetype": "text/x-python",
   "name": "python",
   "nbconvert_exporter": "python",
   "pygments_lexer": "ipython3",
   "version": "3.11.4"
  }
 },
 "nbformat": 4,
 "nbformat_minor": 5
}
