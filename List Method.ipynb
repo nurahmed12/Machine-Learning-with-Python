{
 "cells": [
  {
   "cell_type": "code",
   "execution_count": 1,
   "id": "b280be3b",
   "metadata": {},
   "outputs": [
    {
     "data": {
      "text/plain": [
       "[112, 52, 'AAAAh', 22.23, {3, 4, 23}, [121.1, 'baby', 6]]"
      ]
     },
     "execution_count": 1,
     "metadata": {},
     "output_type": "execute_result"
    }
   ],
   "source": [
    "lst = [112, 52, 'AAAAh', 22.23, {23, 3, 4}, [121.1, 'baby', 6]]\n",
    "\n",
    "lst1 = lst.copy()\n",
    "lst1"
   ]
  },
  {
   "cell_type": "code",
   "execution_count": 2,
   "id": "171567be",
   "metadata": {},
   "outputs": [],
   "source": [
    "lst.append({3, 2, 5})"
   ]
  },
  {
   "cell_type": "code",
   "execution_count": 3,
   "id": "bd4107d0",
   "metadata": {},
   "outputs": [
    {
     "data": {
      "text/plain": [
       "[112, 52, 'AAAAh', 22.23, {3, 4, 23}, [121.1, 'baby', 6], {2, 3, 5}]"
      ]
     },
     "execution_count": 3,
     "metadata": {},
     "output_type": "execute_result"
    }
   ],
   "source": [
    "lst"
   ]
  },
  {
   "cell_type": "code",
   "execution_count": 6,
   "id": "e38adbd9",
   "metadata": {},
   "outputs": [],
   "source": [
    "lst1.extend(lst)"
   ]
  },
  {
   "cell_type": "code",
   "execution_count": 7,
   "id": "fc50deea",
   "metadata": {},
   "outputs": [
    {
     "data": {
      "text/plain": [
       "[112,\n",
       " 52,\n",
       " 'AAAAh',\n",
       " 22.23,\n",
       " {3, 4, 23},\n",
       " [121.1, 'baby', 6],\n",
       " 112,\n",
       " 52,\n",
       " 'AAAAh',\n",
       " 22.23,\n",
       " {3, 4, 23},\n",
       " [121.1, 'baby', 6],\n",
       " {2, 3, 5},\n",
       " 112,\n",
       " 52,\n",
       " 'AAAAh',\n",
       " 22.23,\n",
       " {3, 4, 23},\n",
       " [121.1, 'baby', 6],\n",
       " {2, 3, 5}]"
      ]
     },
     "execution_count": 7,
     "metadata": {},
     "output_type": "execute_result"
    }
   ],
   "source": [
    "lst1"
   ]
  },
  {
   "cell_type": "code",
   "execution_count": 8,
   "id": "fb97b3f3",
   "metadata": {},
   "outputs": [],
   "source": [
    "lst.insert(1, 'priyo')"
   ]
  },
  {
   "cell_type": "code",
   "execution_count": 9,
   "id": "a2d0cb46",
   "metadata": {},
   "outputs": [
    {
     "data": {
      "text/plain": [
       "[112, 'priyo', 52, 'AAAAh', 22.23, {3, 4, 23}, [121.1, 'baby', 6], {2, 3, 5}]"
      ]
     },
     "execution_count": 9,
     "metadata": {},
     "output_type": "execute_result"
    }
   ],
   "source": [
    "lst"
   ]
  },
  {
   "cell_type": "code",
   "execution_count": 11,
   "id": "f4f5eb67",
   "metadata": {},
   "outputs": [
    {
     "data": {
      "text/plain": [
       "3"
      ]
     },
     "execution_count": 11,
     "metadata": {},
     "output_type": "execute_result"
    }
   ],
   "source": [
    "lst.index('AAAAh')"
   ]
  },
  {
   "cell_type": "code",
   "execution_count": 12,
   "id": "d3fd5949",
   "metadata": {},
   "outputs": [
    {
     "data": {
      "text/plain": [
       "5"
      ]
     },
     "execution_count": 12,
     "metadata": {},
     "output_type": "execute_result"
    }
   ],
   "source": [
    "lst.index({3, 4, 23})"
   ]
  },
  {
   "cell_type": "code",
   "execution_count": 13,
   "id": "64435555",
   "metadata": {},
   "outputs": [
    {
     "data": {
      "text/plain": [
       "1"
      ]
     },
     "execution_count": 13,
     "metadata": {},
     "output_type": "execute_result"
    }
   ],
   "source": [
    "lst.count(52)"
   ]
  },
  {
   "cell_type": "code",
   "execution_count": 14,
   "id": "48693bfe",
   "metadata": {},
   "outputs": [
    {
     "data": {
      "text/plain": [
       "3"
      ]
     },
     "execution_count": 14,
     "metadata": {},
     "output_type": "execute_result"
    }
   ],
   "source": [
    "lst1.count(52)"
   ]
  },
  {
   "cell_type": "code",
   "execution_count": 28,
   "id": "8e047300",
   "metadata": {},
   "outputs": [
    {
     "data": {
      "text/plain": [
       "[112,\n",
       " 'priyo',\n",
       " 52,\n",
       " 'AAAAh',\n",
       " 22.23,\n",
       " {3, 4, 23},\n",
       " [121.1, 'baby', 6],\n",
       " {2, 3, 5},\n",
       " [112, 52, 1]]"
      ]
     },
     "execution_count": 28,
     "metadata": {},
     "output_type": "execute_result"
    }
   ],
   "source": [
    "lst.append([112, 52, 1])\n",
    "lst"
   ]
  },
  {
   "cell_type": "code",
   "execution_count": 29,
   "id": "2d65899c",
   "metadata": {},
   "outputs": [],
   "source": [
    "lst[8].sort()"
   ]
  },
  {
   "cell_type": "code",
   "execution_count": 30,
   "id": "b02bbdb5",
   "metadata": {},
   "outputs": [
    {
     "data": {
      "text/plain": [
       "[112,\n",
       " 'priyo',\n",
       " 52,\n",
       " 'AAAAh',\n",
       " 22.23,\n",
       " {3, 4, 23},\n",
       " [121.1, 'baby', 6],\n",
       " {2, 3, 5},\n",
       " [1, 52, 112]]"
      ]
     },
     "execution_count": 30,
     "metadata": {},
     "output_type": "execute_result"
    }
   ],
   "source": [
    "lst"
   ]
  },
  {
   "cell_type": "code",
   "execution_count": 31,
   "id": "f3767c3c",
   "metadata": {},
   "outputs": [],
   "source": [
    "lst[8].sort(reverse = True)"
   ]
  },
  {
   "cell_type": "code",
   "execution_count": 32,
   "id": "b1b0e5b1",
   "metadata": {},
   "outputs": [
    {
     "data": {
      "text/plain": [
       "[112,\n",
       " 'priyo',\n",
       " 52,\n",
       " 'AAAAh',\n",
       " 22.23,\n",
       " {3, 4, 23},\n",
       " [121.1, 'baby', 6],\n",
       " {2, 3, 5},\n",
       " [112, 52, 1]]"
      ]
     },
     "execution_count": 32,
     "metadata": {},
     "output_type": "execute_result"
    }
   ],
   "source": [
    "lst"
   ]
  },
  {
   "cell_type": "code",
   "execution_count": 33,
   "id": "542dad5f",
   "metadata": {},
   "outputs": [],
   "source": [
    "lst.reverse()"
   ]
  },
  {
   "cell_type": "code",
   "execution_count": 34,
   "id": "9cbff93a",
   "metadata": {},
   "outputs": [
    {
     "data": {
      "text/plain": [
       "[[112, 52, 1],\n",
       " {2, 3, 5},\n",
       " [121.1, 'baby', 6],\n",
       " {3, 4, 23},\n",
       " 22.23,\n",
       " 'AAAAh',\n",
       " 52,\n",
       " 'priyo',\n",
       " 112]"
      ]
     },
     "execution_count": 34,
     "metadata": {},
     "output_type": "execute_result"
    }
   ],
   "source": [
    "lst"
   ]
  },
  {
   "cell_type": "code",
   "execution_count": 36,
   "id": "46106d63",
   "metadata": {},
   "outputs": [
    {
     "data": {
      "text/plain": [
       "[112, 52, 1]"
      ]
     },
     "execution_count": 36,
     "metadata": {},
     "output_type": "execute_result"
    }
   ],
   "source": [
    "lst.pop(0)"
   ]
  },
  {
   "cell_type": "code",
   "execution_count": 37,
   "id": "2c565c33",
   "metadata": {},
   "outputs": [],
   "source": [
    "lst.remove('AAAAh')"
   ]
  },
  {
   "cell_type": "code",
   "execution_count": 38,
   "id": "438ab60d",
   "metadata": {},
   "outputs": [
    {
     "data": {
      "text/plain": [
       "[{2, 3, 5}, [121.1, 'baby', 6], {3, 4, 23}, 22.23, 52, 'priyo', 112]"
      ]
     },
     "execution_count": 38,
     "metadata": {},
     "output_type": "execute_result"
    }
   ],
   "source": [
    "lst"
   ]
  },
  {
   "cell_type": "code",
   "execution_count": 42,
   "id": "8f103263",
   "metadata": {},
   "outputs": [],
   "source": [
    "lst[0].remove(2)"
   ]
  },
  {
   "cell_type": "code",
   "execution_count": 43,
   "id": "9302f313",
   "metadata": {},
   "outputs": [
    {
     "data": {
      "text/plain": [
       "[{5}, [121.1, 'baby', 6], {3, 4, 23}, 22.23, 52, 'priyo', 112]"
      ]
     },
     "execution_count": 43,
     "metadata": {},
     "output_type": "execute_result"
    }
   ],
   "source": [
    "lst"
   ]
  },
  {
   "cell_type": "code",
   "execution_count": 44,
   "id": "b3259f10",
   "metadata": {},
   "outputs": [],
   "source": [
    "lst1.clear()"
   ]
  },
  {
   "cell_type": "code",
   "execution_count": 45,
   "id": "1af019e2",
   "metadata": {},
   "outputs": [
    {
     "data": {
      "text/plain": [
       "[]"
      ]
     },
     "execution_count": 45,
     "metadata": {},
     "output_type": "execute_result"
    }
   ],
   "source": [
    "lst1"
   ]
  },
  {
   "cell_type": "code",
   "execution_count": 46,
   "id": "23ed8312",
   "metadata": {},
   "outputs": [
    {
     "data": {
      "text/plain": [
       "list"
      ]
     },
     "execution_count": 46,
     "metadata": {},
     "output_type": "execute_result"
    }
   ],
   "source": [
    "type(lst1)"
   ]
  },
  {
   "cell_type": "code",
   "execution_count": 47,
   "id": "07df0b18",
   "metadata": {},
   "outputs": [],
   "source": [
    "del lst[6]"
   ]
  },
  {
   "cell_type": "code",
   "execution_count": 48,
   "id": "e9a7c135",
   "metadata": {},
   "outputs": [
    {
     "data": {
      "text/plain": [
       "[{5}, [121.1, 'baby', 6], {3, 4, 23}, 22.23, 52, 'priyo']"
      ]
     },
     "execution_count": 48,
     "metadata": {},
     "output_type": "execute_result"
    }
   ],
   "source": [
    "lst"
   ]
  },
  {
   "cell_type": "code",
   "execution_count": null,
   "id": "91d93f54",
   "metadata": {},
   "outputs": [],
   "source": []
  }
 ],
 "metadata": {
  "kernelspec": {
   "display_name": "Python 3 (ipykernel)",
   "language": "python",
   "name": "python3"
  },
  "language_info": {
   "codemirror_mode": {
    "name": "ipython",
    "version": 3
   },
   "file_extension": ".py",
   "mimetype": "text/x-python",
   "name": "python",
   "nbconvert_exporter": "python",
   "pygments_lexer": "ipython3",
   "version": "3.11.4"
  }
 },
 "nbformat": 4,
 "nbformat_minor": 5
}
