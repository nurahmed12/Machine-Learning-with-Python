{
 "cells": [
  {
   "cell_type": "code",
   "execution_count": 3,
   "id": "8cc82021",
   "metadata": {},
   "outputs": [
    {
     "name": "stdout",
     "output_type": "stream",
     "text": [
      "[12, 34, 'ar', [34, 23, 'suck']]\n"
     ]
    }
   ],
   "source": [
    "lst = [12, 34, 'ar', [34, 23, 'suck']]\n",
    "\n",
    "print(lst)"
   ]
  },
  {
   "cell_type": "code",
   "execution_count": 4,
   "id": "d3531a8b",
   "metadata": {},
   "outputs": [
    {
     "name": "stdout",
     "output_type": "stream",
     "text": [
      "[12, 34]\n"
     ]
    }
   ],
   "source": [
    "print(lst[0: -2])"
   ]
  },
  {
   "cell_type": "code",
   "execution_count": 5,
   "id": "8d251b19",
   "metadata": {},
   "outputs": [
    {
     "name": "stdout",
     "output_type": "stream",
     "text": [
      "[34, 'ar']\n"
     ]
    }
   ],
   "source": [
    "print(lst[1 : -1])"
   ]
  },
  {
   "cell_type": "code",
   "execution_count": 6,
   "id": "980bb28f",
   "metadata": {},
   "outputs": [
    {
     "data": {
      "text/plain": [
       "[34, 23, 'suck']"
      ]
     },
     "execution_count": 6,
     "metadata": {},
     "output_type": "execute_result"
    }
   ],
   "source": [
    "lst[-1]"
   ]
  },
  {
   "cell_type": "code",
   "execution_count": 7,
   "id": "4e102c50",
   "metadata": {},
   "outputs": [
    {
     "data": {
      "text/plain": [
       "['ar']"
      ]
     },
     "execution_count": 7,
     "metadata": {},
     "output_type": "execute_result"
    }
   ],
   "source": [
    "lst[-2: -1]"
   ]
  },
  {
   "cell_type": "code",
   "execution_count": 8,
   "id": "ad9dd4cf",
   "metadata": {},
   "outputs": [
    {
     "data": {
      "text/plain": [
       "'suck'"
      ]
     },
     "execution_count": 8,
     "metadata": {},
     "output_type": "execute_result"
    }
   ],
   "source": [
    "lst[3][2]"
   ]
  },
  {
   "cell_type": "code",
   "execution_count": 9,
   "id": "1ea48e70",
   "metadata": {},
   "outputs": [],
   "source": [
    "lst[0] = 'Fun'"
   ]
  },
  {
   "cell_type": "code",
   "execution_count": 10,
   "id": "0f2f216d",
   "metadata": {},
   "outputs": [
    {
     "data": {
      "text/plain": [
       "'Fun'"
      ]
     },
     "execution_count": 10,
     "metadata": {},
     "output_type": "execute_result"
    }
   ],
   "source": [
    "lst[0]"
   ]
  },
  {
   "cell_type": "code",
   "execution_count": 13,
   "id": "19c44c9c",
   "metadata": {},
   "outputs": [],
   "source": [
    "lst.append('marma')"
   ]
  },
  {
   "cell_type": "code",
   "execution_count": 14,
   "id": "0c06c7aa",
   "metadata": {},
   "outputs": [
    {
     "data": {
      "text/plain": [
       "['Fun', 34, 'ar', [34, 23, 'suck'], 'marma', 'marma']"
      ]
     },
     "execution_count": 14,
     "metadata": {},
     "output_type": "execute_result"
    }
   ],
   "source": [
    "lst"
   ]
  },
  {
   "cell_type": "code",
   "execution_count": 15,
   "id": "93875699",
   "metadata": {},
   "outputs": [
    {
     "data": {
      "text/plain": [
       "'marma'"
      ]
     },
     "execution_count": 15,
     "metadata": {},
     "output_type": "execute_result"
    }
   ],
   "source": [
    "lst.pop()"
   ]
  },
  {
   "cell_type": "code",
   "execution_count": 16,
   "id": "6cb59246",
   "metadata": {},
   "outputs": [
    {
     "data": {
      "text/plain": [
       "['Fun', 34, 'ar', [34, 23, 'suck'], 'marma']"
      ]
     },
     "execution_count": 16,
     "metadata": {},
     "output_type": "execute_result"
    }
   ],
   "source": [
    "lst"
   ]
  },
  {
   "cell_type": "code",
   "execution_count": 17,
   "id": "856f398a",
   "metadata": {},
   "outputs": [
    {
     "data": {
      "text/plain": [
       "'ar'"
      ]
     },
     "execution_count": 17,
     "metadata": {},
     "output_type": "execute_result"
    }
   ],
   "source": [
    "lst.pop(2)"
   ]
  },
  {
   "cell_type": "code",
   "execution_count": 18,
   "id": "8c105dfa",
   "metadata": {},
   "outputs": [
    {
     "data": {
      "text/plain": [
       "['Fun', 34, [34, 23, 'suck'], 'marma']"
      ]
     },
     "execution_count": 18,
     "metadata": {},
     "output_type": "execute_result"
    }
   ],
   "source": [
    "lst"
   ]
  },
  {
   "cell_type": "code",
   "execution_count": 19,
   "id": "8bf195e8",
   "metadata": {},
   "outputs": [
    {
     "name": "stdout",
     "output_type": "stream",
     "text": [
      "Fun\n",
      "34\n",
      "[34, 23, 'suck']\n",
      "marma\n"
     ]
    }
   ],
   "source": [
    "for i in range(len(lst)):\n",
    "    print(lst[i])"
   ]
  },
  {
   "cell_type": "code",
   "execution_count": 20,
   "id": "ebe59356",
   "metadata": {},
   "outputs": [
    {
     "data": {
      "text/plain": [
       "list"
      ]
     },
     "execution_count": 20,
     "metadata": {},
     "output_type": "execute_result"
    }
   ],
   "source": [
    "type(lst)"
   ]
  },
  {
   "cell_type": "code",
   "execution_count": 21,
   "id": "6ac2f708",
   "metadata": {},
   "outputs": [
    {
     "data": {
      "text/plain": [
       "120"
      ]
     },
     "execution_count": 21,
     "metadata": {},
     "output_type": "execute_result"
    }
   ],
   "source": [
    "import sys\n",
    "sys.getsizeof(lst)"
   ]
  },
  {
   "cell_type": "code",
   "execution_count": null,
   "id": "1d9ea106",
   "metadata": {},
   "outputs": [],
   "source": []
  }
 ],
 "metadata": {
  "kernelspec": {
   "display_name": "Python 3 (ipykernel)",
   "language": "python",
   "name": "python3"
  },
  "language_info": {
   "codemirror_mode": {
    "name": "ipython",
    "version": 3
   },
   "file_extension": ".py",
   "mimetype": "text/x-python",
   "name": "python",
   "nbconvert_exporter": "python",
   "pygments_lexer": "ipython3",
   "version": "3.11.4"
  }
 },
 "nbformat": 4,
 "nbformat_minor": 5
}
