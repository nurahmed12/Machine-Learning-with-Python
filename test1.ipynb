{
 "cells": [
  {
   "cell_type": "code",
   "execution_count": 2,
   "id": "b96d37e3",
   "metadata": {},
   "outputs": [
    {
     "ename": "ModuleNotFoundError",
     "evalue": "No module named 'Decorators'",
     "output_type": "error",
     "traceback": [
      "\u001b[1;31m---------------------------------------------------------------------------\u001b[0m",
      "\u001b[1;31mModuleNotFoundError\u001b[0m                       Traceback (most recent call last)",
      "Cell \u001b[1;32mIn[2], line 1\u001b[0m\n\u001b[1;32m----> 1\u001b[0m \u001b[38;5;28;01mimport\u001b[39;00m \u001b[38;5;21;01mDecorators\u001b[39;00m\n\u001b[0;32m      2\u001b[0m Decorators\u001b[38;5;241m.\u001b[39mfun2()\n",
      "\u001b[1;31mModuleNotFoundError\u001b[0m: No module named 'Decorators'"
     ]
    }
   ],
   "source": [
    "import Decorators\n",
    "Decorators.fun2()"
   ]
  },
  {
   "cell_type": "code",
   "execution_count": null,
   "id": "0c96f28b",
   "metadata": {},
   "outputs": [],
   "source": []
  }
 ],
 "metadata": {
  "kernelspec": {
   "display_name": "Python 3 (ipykernel)",
   "language": "python",
   "name": "python3"
  },
  "language_info": {
   "codemirror_mode": {
    "name": "ipython",
    "version": 3
   },
   "file_extension": ".py",
   "mimetype": "text/x-python",
   "name": "python",
   "nbconvert_exporter": "python",
   "pygments_lexer": "ipython3",
   "version": "3.11.4"
  }
 },
 "nbformat": 4,
 "nbformat_minor": 5
}
