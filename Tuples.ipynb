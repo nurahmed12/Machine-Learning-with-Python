{
 "cells": [
  {
   "cell_type": "code",
   "execution_count": 1,
   "id": "d495880e",
   "metadata": {},
   "outputs": [],
   "source": [
    "tup = (23, 125, 'wsdh', [123, 5, 12], (43, 22, 6))"
   ]
  },
  {
   "cell_type": "code",
   "execution_count": 2,
   "id": "a5421a02",
   "metadata": {},
   "outputs": [
    {
     "data": {
      "text/plain": [
       "(23, 125, 'wsdh', [123, 5, 12], (43, 22, 6))"
      ]
     },
     "execution_count": 2,
     "metadata": {},
     "output_type": "execute_result"
    }
   ],
   "source": [
    "tup"
   ]
  },
  {
   "cell_type": "code",
   "execution_count": 3,
   "id": "42f32ed9",
   "metadata": {},
   "outputs": [
    {
     "data": {
      "text/plain": [
       "list"
      ]
     },
     "execution_count": 3,
     "metadata": {},
     "output_type": "execute_result"
    }
   ],
   "source": [
    "type(tup[3])"
   ]
  },
  {
   "cell_type": "code",
   "execution_count": 4,
   "id": "d0db77f2",
   "metadata": {},
   "outputs": [
    {
     "data": {
      "text/plain": [
       "tuple"
      ]
     },
     "execution_count": 4,
     "metadata": {},
     "output_type": "execute_result"
    }
   ],
   "source": [
    "type(tup)"
   ]
  },
  {
   "cell_type": "code",
   "execution_count": 5,
   "id": "764a8b99",
   "metadata": {},
   "outputs": [
    {
     "ename": "AttributeError",
     "evalue": "'tuple' object has no attribute 'append'",
     "output_type": "error",
     "traceback": [
      "\u001b[1;31m---------------------------------------------------------------------------\u001b[0m",
      "\u001b[1;31mAttributeError\u001b[0m                            Traceback (most recent call last)",
      "Cell \u001b[1;32mIn[5], line 1\u001b[0m\n\u001b[1;32m----> 1\u001b[0m \u001b[43mtup\u001b[49m\u001b[38;5;241;43m.\u001b[39;49m\u001b[43mappend\u001b[49m(\u001b[38;5;241m12\u001b[39m)\n",
      "\u001b[1;31mAttributeError\u001b[0m: 'tuple' object has no attribute 'append'"
     ]
    }
   ],
   "source": [
    "tup.append(12)"
   ]
  },
  {
   "cell_type": "code",
   "execution_count": 6,
   "id": "809eb419",
   "metadata": {},
   "outputs": [
    {
     "ename": "TypeError",
     "evalue": "'tuple' object does not support item assignment",
     "output_type": "error",
     "traceback": [
      "\u001b[1;31m---------------------------------------------------------------------------\u001b[0m",
      "\u001b[1;31mTypeError\u001b[0m                                 Traceback (most recent call last)",
      "Cell \u001b[1;32mIn[6], line 1\u001b[0m\n\u001b[1;32m----> 1\u001b[0m \u001b[43mtup\u001b[49m\u001b[43m[\u001b[49m\u001b[38;5;241;43m1\u001b[39;49m\u001b[43m]\u001b[49m \u001b[38;5;241m=\u001b[39m \u001b[38;5;124m'\u001b[39m\u001b[38;5;124mshafa\u001b[39m\u001b[38;5;124m'\u001b[39m\n",
      "\u001b[1;31mTypeError\u001b[0m: 'tuple' object does not support item assignment"
     ]
    }
   ],
   "source": [
    "tup[1] = 'shafa'"
   ]
  },
  {
   "cell_type": "code",
   "execution_count": 7,
   "id": "79b2f990",
   "metadata": {},
   "outputs": [],
   "source": [
    "tup = list(tup)"
   ]
  },
  {
   "cell_type": "code",
   "execution_count": 8,
   "id": "eeb242c3",
   "metadata": {},
   "outputs": [],
   "source": [
    "tup.append('Ara')"
   ]
  },
  {
   "cell_type": "code",
   "execution_count": 9,
   "id": "4e789bc5",
   "metadata": {},
   "outputs": [
    {
     "data": {
      "text/plain": [
       "[23, 125, 'wsdh', [123, 5, 12], (43, 22, 6), 'Ara']"
      ]
     },
     "execution_count": 9,
     "metadata": {},
     "output_type": "execute_result"
    }
   ],
   "source": [
    "tup"
   ]
  },
  {
   "cell_type": "code",
   "execution_count": 10,
   "id": "ad0e8b25",
   "metadata": {},
   "outputs": [],
   "source": [
    "tup[1] = 'Valobasha'"
   ]
  },
  {
   "cell_type": "code",
   "execution_count": 11,
   "id": "fed8a304",
   "metadata": {},
   "outputs": [
    {
     "data": {
      "text/plain": [
       "[23, 'Valobasha', 'wsdh', [123, 5, 12], (43, 22, 6), 'Ara']"
      ]
     },
     "execution_count": 11,
     "metadata": {},
     "output_type": "execute_result"
    }
   ],
   "source": [
    "tup"
   ]
  },
  {
   "cell_type": "code",
   "execution_count": 12,
   "id": "62af82cc",
   "metadata": {},
   "outputs": [],
   "source": [
    "tup = tuple(tup)"
   ]
  },
  {
   "cell_type": "code",
   "execution_count": 13,
   "id": "2f3dee6e",
   "metadata": {},
   "outputs": [
    {
     "data": {
      "text/plain": [
       "(23, 'Valobasha', 'wsdh', [123, 5, 12], (43, 22, 6), 'Ara')"
      ]
     },
     "execution_count": 13,
     "metadata": {},
     "output_type": "execute_result"
    }
   ],
   "source": [
    "tup"
   ]
  },
  {
   "cell_type": "code",
   "execution_count": 14,
   "id": "a2ffb82d",
   "metadata": {},
   "outputs": [],
   "source": [
    "tup1 = tup[1:3]"
   ]
  },
  {
   "cell_type": "code",
   "execution_count": 15,
   "id": "0a0deb63",
   "metadata": {},
   "outputs": [
    {
     "data": {
      "text/plain": [
       "('Valobasha', 'wsdh')"
      ]
     },
     "execution_count": 15,
     "metadata": {},
     "output_type": "execute_result"
    }
   ],
   "source": [
    "tup1"
   ]
  },
  {
   "cell_type": "code",
   "execution_count": 16,
   "id": "ef26601a",
   "metadata": {},
   "outputs": [],
   "source": [
    "tup2 = tup + tup1"
   ]
  },
  {
   "cell_type": "code",
   "execution_count": 17,
   "id": "70927dd5",
   "metadata": {},
   "outputs": [
    {
     "data": {
      "text/plain": [
       "(23,\n",
       " 'Valobasha',\n",
       " 'wsdh',\n",
       " [123, 5, 12],\n",
       " (43, 22, 6),\n",
       " 'Ara',\n",
       " 'Valobasha',\n",
       " 'wsdh')"
      ]
     },
     "execution_count": 17,
     "metadata": {},
     "output_type": "execute_result"
    }
   ],
   "source": [
    "tup2"
   ]
  },
  {
   "cell_type": "code",
   "execution_count": 18,
   "id": "5951ad83",
   "metadata": {},
   "outputs": [],
   "source": [
    "tup1 = tup1 * 2"
   ]
  },
  {
   "cell_type": "code",
   "execution_count": 19,
   "id": "b74c5209",
   "metadata": {},
   "outputs": [
    {
     "data": {
      "text/plain": [
       "('Valobasha', 'wsdh', 'Valobasha', 'wsdh')"
      ]
     },
     "execution_count": 19,
     "metadata": {},
     "output_type": "execute_result"
    }
   ],
   "source": [
    "tup1"
   ]
  },
  {
   "cell_type": "code",
   "execution_count": 20,
   "id": "2dfbd920",
   "metadata": {},
   "outputs": [],
   "source": [
    "tup3 = 'sdfhy', 32, 52, [1, 2, 3, 5]"
   ]
  },
  {
   "cell_type": "code",
   "execution_count": 21,
   "id": "492339bb",
   "metadata": {},
   "outputs": [
    {
     "data": {
      "text/plain": [
       "('sdfhy', 32, 52, [1, 2, 3, 5])"
      ]
     },
     "execution_count": 21,
     "metadata": {},
     "output_type": "execute_result"
    }
   ],
   "source": [
    "tup3"
   ]
  },
  {
   "cell_type": "code",
   "execution_count": 22,
   "id": "9a3743e6",
   "metadata": {},
   "outputs": [
    {
     "data": {
      "text/plain": [
       "tuple"
      ]
     },
     "execution_count": 22,
     "metadata": {},
     "output_type": "execute_result"
    }
   ],
   "source": [
    "type(tup3)"
   ]
  },
  {
   "cell_type": "code",
   "execution_count": 23,
   "id": "7233621d",
   "metadata": {},
   "outputs": [],
   "source": [
    "tup4 = 'Hello'"
   ]
  },
  {
   "cell_type": "code",
   "execution_count": 24,
   "id": "4e5aaa9a",
   "metadata": {},
   "outputs": [
    {
     "data": {
      "text/plain": [
       "str"
      ]
     },
     "execution_count": 24,
     "metadata": {},
     "output_type": "execute_result"
    }
   ],
   "source": [
    "type(tup4)"
   ]
  },
  {
   "cell_type": "code",
   "execution_count": 25,
   "id": "1711faa3",
   "metadata": {},
   "outputs": [
    {
     "data": {
      "text/plain": [
       "tuple"
      ]
     },
     "execution_count": 25,
     "metadata": {},
     "output_type": "execute_result"
    }
   ],
   "source": [
    "tup4 = 'Hello', \n",
    "type(tup4)"
   ]
  },
  {
   "cell_type": "code",
   "execution_count": 26,
   "id": "902c43c6",
   "metadata": {},
   "outputs": [],
   "source": [
    "tup5 = ('Kaha')"
   ]
  },
  {
   "cell_type": "code",
   "execution_count": 27,
   "id": "b8d93c9f",
   "metadata": {},
   "outputs": [
    {
     "data": {
      "text/plain": [
       "str"
      ]
     },
     "execution_count": 27,
     "metadata": {},
     "output_type": "execute_result"
    }
   ],
   "source": [
    "type(tup5)"
   ]
  },
  {
   "cell_type": "code",
   "execution_count": 28,
   "id": "d0403d40",
   "metadata": {},
   "outputs": [],
   "source": [
    "tup5 = ('Kaha',)"
   ]
  },
  {
   "cell_type": "code",
   "execution_count": 29,
   "id": "7b9d79b9",
   "metadata": {},
   "outputs": [
    {
     "data": {
      "text/plain": [
       "tuple"
      ]
     },
     "execution_count": 29,
     "metadata": {},
     "output_type": "execute_result"
    }
   ],
   "source": [
    "type(tup5)"
   ]
  },
  {
   "cell_type": "code",
   "execution_count": 30,
   "id": "c98b2c2d",
   "metadata": {},
   "outputs": [],
   "source": [
    "tup5 = tuple({23, 52, 22})"
   ]
  },
  {
   "cell_type": "code",
   "execution_count": 31,
   "id": "abbb9691",
   "metadata": {},
   "outputs": [
    {
     "data": {
      "text/plain": [
       "(52, 22, 23)"
      ]
     },
     "execution_count": 31,
     "metadata": {},
     "output_type": "execute_result"
    }
   ],
   "source": [
    "tup5"
   ]
  },
  {
   "cell_type": "code",
   "execution_count": 32,
   "id": "78155b34",
   "metadata": {},
   "outputs": [
    {
     "data": {
      "text/plain": [
       "tuple"
      ]
     },
     "execution_count": 32,
     "metadata": {},
     "output_type": "execute_result"
    }
   ],
   "source": [
    "type(tup5)"
   ]
  },
  {
   "cell_type": "code",
   "execution_count": 33,
   "id": "7052c9fe",
   "metadata": {},
   "outputs": [
    {
     "data": {
      "text/plain": [
       "2"
      ]
     },
     "execution_count": 33,
     "metadata": {},
     "output_type": "execute_result"
    }
   ],
   "source": [
    "tup1.count('wsdh')"
   ]
  },
  {
   "cell_type": "code",
   "execution_count": 34,
   "id": "fb26df58",
   "metadata": {},
   "outputs": [
    {
     "data": {
      "text/plain": [
       "5"
      ]
     },
     "execution_count": 34,
     "metadata": {},
     "output_type": "execute_result"
    }
   ],
   "source": [
    "tup.index('Ara')"
   ]
  },
  {
   "cell_type": "code",
   "execution_count": 35,
   "id": "ded229b2",
   "metadata": {},
   "outputs": [
    {
     "data": {
      "text/plain": [
       "True"
      ]
     },
     "execution_count": 35,
     "metadata": {},
     "output_type": "execute_result"
    }
   ],
   "source": [
    "'wsdh' in tup"
   ]
  },
  {
   "cell_type": "code",
   "execution_count": 36,
   "id": "ebb10339",
   "metadata": {},
   "outputs": [
    {
     "data": {
      "text/plain": [
       "False"
      ]
     },
     "execution_count": 36,
     "metadata": {},
     "output_type": "execute_result"
    }
   ],
   "source": [
    "'Guu er lota' in tup"
   ]
  },
  {
   "cell_type": "code",
   "execution_count": 37,
   "id": "c379351f",
   "metadata": {},
   "outputs": [],
   "source": [
    "del tup5"
   ]
  },
  {
   "cell_type": "code",
   "execution_count": 38,
   "id": "cf1098f6",
   "metadata": {},
   "outputs": [
    {
     "ename": "NameError",
     "evalue": "name 'tup5' is not defined",
     "output_type": "error",
     "traceback": [
      "\u001b[1;31m---------------------------------------------------------------------------\u001b[0m",
      "\u001b[1;31mNameError\u001b[0m                                 Traceback (most recent call last)",
      "Cell \u001b[1;32mIn[38], line 1\u001b[0m\n\u001b[1;32m----> 1\u001b[0m \u001b[43mtup5\u001b[49m\n",
      "\u001b[1;31mNameError\u001b[0m: name 'tup5' is not defined"
     ]
    }
   ],
   "source": [
    "tup5"
   ]
  },
  {
   "cell_type": "code",
   "execution_count": 40,
   "id": "55b2af68",
   "metadata": {},
   "outputs": [
    {
     "name": "stdout",
     "output_type": "stream",
     "text": [
      "23\n",
      "Valobasha\n",
      "wsdh\n",
      "[123, 5, 12]\n",
      "(43, 22, 6)\n",
      "Ara\n"
     ]
    }
   ],
   "source": [
    "for i in range(len(tup)):\n",
    "    print(tup[i])"
   ]
  },
  {
   "cell_type": "code",
   "execution_count": 42,
   "id": "1c503848",
   "metadata": {},
   "outputs": [],
   "source": [
    "tup6 = (i for i in range(11))"
   ]
  },
  {
   "cell_type": "code",
   "execution_count": 43,
   "id": "b9354399",
   "metadata": {},
   "outputs": [
    {
     "data": {
      "text/plain": [
       "<generator object <genexpr> at 0x0000024BD6D63B90>"
      ]
     },
     "execution_count": 43,
     "metadata": {},
     "output_type": "execute_result"
    }
   ],
   "source": [
    "tup6"
   ]
  },
  {
   "cell_type": "code",
   "execution_count": null,
   "id": "69299770",
   "metadata": {},
   "outputs": [],
   "source": []
  }
 ],
 "metadata": {
  "kernelspec": {
   "display_name": "Python 3 (ipykernel)",
   "language": "python",
   "name": "python3"
  },
  "language_info": {
   "codemirror_mode": {
    "name": "ipython",
    "version": 3
   },
   "file_extension": ".py",
   "mimetype": "text/x-python",
   "name": "python",
   "nbconvert_exporter": "python",
   "pygments_lexer": "ipython3",
   "version": "3.11.4"
  }
 },
 "nbformat": 4,
 "nbformat_minor": 5
}
